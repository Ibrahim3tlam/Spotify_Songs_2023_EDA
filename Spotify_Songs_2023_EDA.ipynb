{
  "nbformat": 4,
  "nbformat_minor": 0,
  "metadata": {
    "colab": {
      "provenance": []
    },
    "kernelspec": {
      "name": "python3",
      "display_name": "Python 3"
    },
    "language_info": {
      "name": "python"
    }
  },
  "cells": [
    {
      "cell_type": "markdown",
      "source": [
        "### Import libraries and Read data"
      ],
      "metadata": {
        "id": "_xz9wfYycipG"
      }
    },
    {
      "cell_type": "code",
      "execution_count": null,
      "metadata": {
        "id": "IiC1KtZL8R93"
      },
      "outputs": [],
      "source": [
        "import pandas as pd\n",
        "import numpy as np\n",
        "from scipy.stats import mannwhitneyu\n",
        "import matplotlib.pyplot as plt\n",
        "import seaborn as sns"
      ]
    },
    {
      "cell_type": "code",
      "source": [
        "data_path =\"/content/sample_data/spotify-2023.csv\""
      ],
      "metadata": {
        "id": "bOdqQF8s9niW"
      },
      "execution_count": null,
      "outputs": []
    },
    {
      "cell_type": "code",
      "source": [
        "data = pd.read_csv(data_path, encoding='latin-1')\n",
        "data.head()"
      ],
      "metadata": {
        "colab": {
          "base_uri": "https://localhost:8080/",
          "height": 342
        },
        "id": "b3-fUjnP9sXd",
        "outputId": "08244972-2657-416b-9052-0436a046f9ac"
      },
      "execution_count": null,
      "outputs": [
        {
          "output_type": "execute_result",
          "data": {
            "text/plain": [
              "                            track_name    artist(s)_name  artist_count  \\\n",
              "0  Seven (feat. Latto) (Explicit Ver.)  Latto, Jung Kook             2   \n",
              "1                                 LALA       Myke Towers             1   \n",
              "2                              vampire    Olivia Rodrigo             1   \n",
              "3                         Cruel Summer      Taylor Swift             1   \n",
              "4                       WHERE SHE GOES         Bad Bunny             1   \n",
              "\n",
              "   released_year  released_month  released_day  in_spotify_playlists  \\\n",
              "0           2023               7            14                   553   \n",
              "1           2023               3            23                  1474   \n",
              "2           2023               6            30                  1397   \n",
              "3           2019               8            23                  7858   \n",
              "4           2023               5            18                  3133   \n",
              "\n",
              "   in_spotify_charts    streams  in_apple_playlists  ...  bpm key   mode  \\\n",
              "0                147  141381703                  43  ...  125   B  Major   \n",
              "1                 48  133716286                  48  ...   92  C#  Major   \n",
              "2                113  140003974                  94  ...  138   F  Major   \n",
              "3                100  800840817                 116  ...  170   A  Major   \n",
              "4                 50  303236322                  84  ...  144   A  Minor   \n",
              "\n",
              "  danceability_%  valence_% energy_% acousticness_%  instrumentalness_%  \\\n",
              "0             80         89       83             31                   0   \n",
              "1             71         61       74              7                   0   \n",
              "2             51         32       53             17                   0   \n",
              "3             55         58       72             11                   0   \n",
              "4             65         23       80             14                  63   \n",
              "\n",
              "   liveness_%  speechiness_%  \n",
              "0           8              4  \n",
              "1          10              4  \n",
              "2          31              6  \n",
              "3          11             15  \n",
              "4          11              6  \n",
              "\n",
              "[5 rows x 24 columns]"
            ],
            "text/html": [
              "\n",
              "  <div id=\"df-d52d4038-f818-4513-ba12-c7c7e65cf843\" class=\"colab-df-container\">\n",
              "    <div>\n",
              "<style scoped>\n",
              "    .dataframe tbody tr th:only-of-type {\n",
              "        vertical-align: middle;\n",
              "    }\n",
              "\n",
              "    .dataframe tbody tr th {\n",
              "        vertical-align: top;\n",
              "    }\n",
              "\n",
              "    .dataframe thead th {\n",
              "        text-align: right;\n",
              "    }\n",
              "</style>\n",
              "<table border=\"1\" class=\"dataframe\">\n",
              "  <thead>\n",
              "    <tr style=\"text-align: right;\">\n",
              "      <th></th>\n",
              "      <th>track_name</th>\n",
              "      <th>artist(s)_name</th>\n",
              "      <th>artist_count</th>\n",
              "      <th>released_year</th>\n",
              "      <th>released_month</th>\n",
              "      <th>released_day</th>\n",
              "      <th>in_spotify_playlists</th>\n",
              "      <th>in_spotify_charts</th>\n",
              "      <th>streams</th>\n",
              "      <th>in_apple_playlists</th>\n",
              "      <th>...</th>\n",
              "      <th>bpm</th>\n",
              "      <th>key</th>\n",
              "      <th>mode</th>\n",
              "      <th>danceability_%</th>\n",
              "      <th>valence_%</th>\n",
              "      <th>energy_%</th>\n",
              "      <th>acousticness_%</th>\n",
              "      <th>instrumentalness_%</th>\n",
              "      <th>liveness_%</th>\n",
              "      <th>speechiness_%</th>\n",
              "    </tr>\n",
              "  </thead>\n",
              "  <tbody>\n",
              "    <tr>\n",
              "      <th>0</th>\n",
              "      <td>Seven (feat. Latto) (Explicit Ver.)</td>\n",
              "      <td>Latto, Jung Kook</td>\n",
              "      <td>2</td>\n",
              "      <td>2023</td>\n",
              "      <td>7</td>\n",
              "      <td>14</td>\n",
              "      <td>553</td>\n",
              "      <td>147</td>\n",
              "      <td>141381703</td>\n",
              "      <td>43</td>\n",
              "      <td>...</td>\n",
              "      <td>125</td>\n",
              "      <td>B</td>\n",
              "      <td>Major</td>\n",
              "      <td>80</td>\n",
              "      <td>89</td>\n",
              "      <td>83</td>\n",
              "      <td>31</td>\n",
              "      <td>0</td>\n",
              "      <td>8</td>\n",
              "      <td>4</td>\n",
              "    </tr>\n",
              "    <tr>\n",
              "      <th>1</th>\n",
              "      <td>LALA</td>\n",
              "      <td>Myke Towers</td>\n",
              "      <td>1</td>\n",
              "      <td>2023</td>\n",
              "      <td>3</td>\n",
              "      <td>23</td>\n",
              "      <td>1474</td>\n",
              "      <td>48</td>\n",
              "      <td>133716286</td>\n",
              "      <td>48</td>\n",
              "      <td>...</td>\n",
              "      <td>92</td>\n",
              "      <td>C#</td>\n",
              "      <td>Major</td>\n",
              "      <td>71</td>\n",
              "      <td>61</td>\n",
              "      <td>74</td>\n",
              "      <td>7</td>\n",
              "      <td>0</td>\n",
              "      <td>10</td>\n",
              "      <td>4</td>\n",
              "    </tr>\n",
              "    <tr>\n",
              "      <th>2</th>\n",
              "      <td>vampire</td>\n",
              "      <td>Olivia Rodrigo</td>\n",
              "      <td>1</td>\n",
              "      <td>2023</td>\n",
              "      <td>6</td>\n",
              "      <td>30</td>\n",
              "      <td>1397</td>\n",
              "      <td>113</td>\n",
              "      <td>140003974</td>\n",
              "      <td>94</td>\n",
              "      <td>...</td>\n",
              "      <td>138</td>\n",
              "      <td>F</td>\n",
              "      <td>Major</td>\n",
              "      <td>51</td>\n",
              "      <td>32</td>\n",
              "      <td>53</td>\n",
              "      <td>17</td>\n",
              "      <td>0</td>\n",
              "      <td>31</td>\n",
              "      <td>6</td>\n",
              "    </tr>\n",
              "    <tr>\n",
              "      <th>3</th>\n",
              "      <td>Cruel Summer</td>\n",
              "      <td>Taylor Swift</td>\n",
              "      <td>1</td>\n",
              "      <td>2019</td>\n",
              "      <td>8</td>\n",
              "      <td>23</td>\n",
              "      <td>7858</td>\n",
              "      <td>100</td>\n",
              "      <td>800840817</td>\n",
              "      <td>116</td>\n",
              "      <td>...</td>\n",
              "      <td>170</td>\n",
              "      <td>A</td>\n",
              "      <td>Major</td>\n",
              "      <td>55</td>\n",
              "      <td>58</td>\n",
              "      <td>72</td>\n",
              "      <td>11</td>\n",
              "      <td>0</td>\n",
              "      <td>11</td>\n",
              "      <td>15</td>\n",
              "    </tr>\n",
              "    <tr>\n",
              "      <th>4</th>\n",
              "      <td>WHERE SHE GOES</td>\n",
              "      <td>Bad Bunny</td>\n",
              "      <td>1</td>\n",
              "      <td>2023</td>\n",
              "      <td>5</td>\n",
              "      <td>18</td>\n",
              "      <td>3133</td>\n",
              "      <td>50</td>\n",
              "      <td>303236322</td>\n",
              "      <td>84</td>\n",
              "      <td>...</td>\n",
              "      <td>144</td>\n",
              "      <td>A</td>\n",
              "      <td>Minor</td>\n",
              "      <td>65</td>\n",
              "      <td>23</td>\n",
              "      <td>80</td>\n",
              "      <td>14</td>\n",
              "      <td>63</td>\n",
              "      <td>11</td>\n",
              "      <td>6</td>\n",
              "    </tr>\n",
              "  </tbody>\n",
              "</table>\n",
              "<p>5 rows × 24 columns</p>\n",
              "</div>\n",
              "    <div class=\"colab-df-buttons\">\n",
              "\n",
              "  <div class=\"colab-df-container\">\n",
              "    <button class=\"colab-df-convert\" onclick=\"convertToInteractive('df-d52d4038-f818-4513-ba12-c7c7e65cf843')\"\n",
              "            title=\"Convert this dataframe to an interactive table.\"\n",
              "            style=\"display:none;\">\n",
              "\n",
              "  <svg xmlns=\"http://www.w3.org/2000/svg\" height=\"24px\" viewBox=\"0 -960 960 960\">\n",
              "    <path d=\"M120-120v-720h720v720H120Zm60-500h600v-160H180v160Zm220 220h160v-160H400v160Zm0 220h160v-160H400v160ZM180-400h160v-160H180v160Zm440 0h160v-160H620v160ZM180-180h160v-160H180v160Zm440 0h160v-160H620v160Z\"/>\n",
              "  </svg>\n",
              "    </button>\n",
              "\n",
              "  <style>\n",
              "    .colab-df-container {\n",
              "      display:flex;\n",
              "      gap: 12px;\n",
              "    }\n",
              "\n",
              "    .colab-df-convert {\n",
              "      background-color: #E8F0FE;\n",
              "      border: none;\n",
              "      border-radius: 50%;\n",
              "      cursor: pointer;\n",
              "      display: none;\n",
              "      fill: #1967D2;\n",
              "      height: 32px;\n",
              "      padding: 0 0 0 0;\n",
              "      width: 32px;\n",
              "    }\n",
              "\n",
              "    .colab-df-convert:hover {\n",
              "      background-color: #E2EBFA;\n",
              "      box-shadow: 0px 1px 2px rgba(60, 64, 67, 0.3), 0px 1px 3px 1px rgba(60, 64, 67, 0.15);\n",
              "      fill: #174EA6;\n",
              "    }\n",
              "\n",
              "    .colab-df-buttons div {\n",
              "      margin-bottom: 4px;\n",
              "    }\n",
              "\n",
              "    [theme=dark] .colab-df-convert {\n",
              "      background-color: #3B4455;\n",
              "      fill: #D2E3FC;\n",
              "    }\n",
              "\n",
              "    [theme=dark] .colab-df-convert:hover {\n",
              "      background-color: #434B5C;\n",
              "      box-shadow: 0px 1px 3px 1px rgba(0, 0, 0, 0.15);\n",
              "      filter: drop-shadow(0px 1px 2px rgba(0, 0, 0, 0.3));\n",
              "      fill: #FFFFFF;\n",
              "    }\n",
              "  </style>\n",
              "\n",
              "    <script>\n",
              "      const buttonEl =\n",
              "        document.querySelector('#df-d52d4038-f818-4513-ba12-c7c7e65cf843 button.colab-df-convert');\n",
              "      buttonEl.style.display =\n",
              "        google.colab.kernel.accessAllowed ? 'block' : 'none';\n",
              "\n",
              "      async function convertToInteractive(key) {\n",
              "        const element = document.querySelector('#df-d52d4038-f818-4513-ba12-c7c7e65cf843');\n",
              "        const dataTable =\n",
              "          await google.colab.kernel.invokeFunction('convertToInteractive',\n",
              "                                                    [key], {});\n",
              "        if (!dataTable) return;\n",
              "\n",
              "        const docLinkHtml = 'Like what you see? Visit the ' +\n",
              "          '<a target=\"_blank\" href=https://colab.research.google.com/notebooks/data_table.ipynb>data table notebook</a>'\n",
              "          + ' to learn more about interactive tables.';\n",
              "        element.innerHTML = '';\n",
              "        dataTable['output_type'] = 'display_data';\n",
              "        await google.colab.output.renderOutput(dataTable, element);\n",
              "        const docLink = document.createElement('div');\n",
              "        docLink.innerHTML = docLinkHtml;\n",
              "        element.appendChild(docLink);\n",
              "      }\n",
              "    </script>\n",
              "  </div>\n",
              "\n",
              "\n",
              "<div id=\"df-a5f6a1ff-7bbc-47cc-b21d-7d5bd69f069f\">\n",
              "  <button class=\"colab-df-quickchart\" onclick=\"quickchart('df-a5f6a1ff-7bbc-47cc-b21d-7d5bd69f069f')\"\n",
              "            title=\"Suggest charts.\"\n",
              "            style=\"display:none;\">\n",
              "\n",
              "<svg xmlns=\"http://www.w3.org/2000/svg\" height=\"24px\"viewBox=\"0 0 24 24\"\n",
              "     width=\"24px\">\n",
              "    <g>\n",
              "        <path d=\"M19 3H5c-1.1 0-2 .9-2 2v14c0 1.1.9 2 2 2h14c1.1 0 2-.9 2-2V5c0-1.1-.9-2-2-2zM9 17H7v-7h2v7zm4 0h-2V7h2v10zm4 0h-2v-4h2v4z\"/>\n",
              "    </g>\n",
              "</svg>\n",
              "  </button>\n",
              "\n",
              "<style>\n",
              "  .colab-df-quickchart {\n",
              "      --bg-color: #E8F0FE;\n",
              "      --fill-color: #1967D2;\n",
              "      --hover-bg-color: #E2EBFA;\n",
              "      --hover-fill-color: #174EA6;\n",
              "      --disabled-fill-color: #AAA;\n",
              "      --disabled-bg-color: #DDD;\n",
              "  }\n",
              "\n",
              "  [theme=dark] .colab-df-quickchart {\n",
              "      --bg-color: #3B4455;\n",
              "      --fill-color: #D2E3FC;\n",
              "      --hover-bg-color: #434B5C;\n",
              "      --hover-fill-color: #FFFFFF;\n",
              "      --disabled-bg-color: #3B4455;\n",
              "      --disabled-fill-color: #666;\n",
              "  }\n",
              "\n",
              "  .colab-df-quickchart {\n",
              "    background-color: var(--bg-color);\n",
              "    border: none;\n",
              "    border-radius: 50%;\n",
              "    cursor: pointer;\n",
              "    display: none;\n",
              "    fill: var(--fill-color);\n",
              "    height: 32px;\n",
              "    padding: 0;\n",
              "    width: 32px;\n",
              "  }\n",
              "\n",
              "  .colab-df-quickchart:hover {\n",
              "    background-color: var(--hover-bg-color);\n",
              "    box-shadow: 0 1px 2px rgba(60, 64, 67, 0.3), 0 1px 3px 1px rgba(60, 64, 67, 0.15);\n",
              "    fill: var(--button-hover-fill-color);\n",
              "  }\n",
              "\n",
              "  .colab-df-quickchart-complete:disabled,\n",
              "  .colab-df-quickchart-complete:disabled:hover {\n",
              "    background-color: var(--disabled-bg-color);\n",
              "    fill: var(--disabled-fill-color);\n",
              "    box-shadow: none;\n",
              "  }\n",
              "\n",
              "  .colab-df-spinner {\n",
              "    border: 2px solid var(--fill-color);\n",
              "    border-color: transparent;\n",
              "    border-bottom-color: var(--fill-color);\n",
              "    animation:\n",
              "      spin 1s steps(1) infinite;\n",
              "  }\n",
              "\n",
              "  @keyframes spin {\n",
              "    0% {\n",
              "      border-color: transparent;\n",
              "      border-bottom-color: var(--fill-color);\n",
              "      border-left-color: var(--fill-color);\n",
              "    }\n",
              "    20% {\n",
              "      border-color: transparent;\n",
              "      border-left-color: var(--fill-color);\n",
              "      border-top-color: var(--fill-color);\n",
              "    }\n",
              "    30% {\n",
              "      border-color: transparent;\n",
              "      border-left-color: var(--fill-color);\n",
              "      border-top-color: var(--fill-color);\n",
              "      border-right-color: var(--fill-color);\n",
              "    }\n",
              "    40% {\n",
              "      border-color: transparent;\n",
              "      border-right-color: var(--fill-color);\n",
              "      border-top-color: var(--fill-color);\n",
              "    }\n",
              "    60% {\n",
              "      border-color: transparent;\n",
              "      border-right-color: var(--fill-color);\n",
              "    }\n",
              "    80% {\n",
              "      border-color: transparent;\n",
              "      border-right-color: var(--fill-color);\n",
              "      border-bottom-color: var(--fill-color);\n",
              "    }\n",
              "    90% {\n",
              "      border-color: transparent;\n",
              "      border-bottom-color: var(--fill-color);\n",
              "    }\n",
              "  }\n",
              "</style>\n",
              "\n",
              "  <script>\n",
              "    async function quickchart(key) {\n",
              "      const quickchartButtonEl =\n",
              "        document.querySelector('#' + key + ' button');\n",
              "      quickchartButtonEl.disabled = true;  // To prevent multiple clicks.\n",
              "      quickchartButtonEl.classList.add('colab-df-spinner');\n",
              "      try {\n",
              "        const charts = await google.colab.kernel.invokeFunction(\n",
              "            'suggestCharts', [key], {});\n",
              "      } catch (error) {\n",
              "        console.error('Error during call to suggestCharts:', error);\n",
              "      }\n",
              "      quickchartButtonEl.classList.remove('colab-df-spinner');\n",
              "      quickchartButtonEl.classList.add('colab-df-quickchart-complete');\n",
              "    }\n",
              "    (() => {\n",
              "      let quickchartButtonEl =\n",
              "        document.querySelector('#df-a5f6a1ff-7bbc-47cc-b21d-7d5bd69f069f button');\n",
              "      quickchartButtonEl.style.display =\n",
              "        google.colab.kernel.accessAllowed ? 'block' : 'none';\n",
              "    })();\n",
              "  </script>\n",
              "</div>\n",
              "    </div>\n",
              "  </div>\n"
            ]
          },
          "metadata": {},
          "execution_count": 218
        }
      ]
    },
    {
      "cell_type": "markdown",
      "source": [
        "### Brief description of the data set\n",
        "---\n",
        "\n",
        "This dataset contains a comprehensive list of the most famous songs of 2023 as listed on Spotify. The dataset offers a wealth of features beyond what is typically available in similar datasets. It provides insights into each song's attributes, popularity, and presence on various music platforms. The dataset includes information such as track name, artist(s) name, release date, Spotify playlists and charts, streaming statistics, Apple Music presence, Deezer presence, Shazam charts, and various audio features.\n"
      ],
      "metadata": {
        "id": "w_-CE4Fc-p0d"
      }
    },
    {
      "cell_type": "markdown",
      "source": [
        "### Key Features\n",
        "\n",
        "---\n",
        "\n",
        "\n",
        "\n",
        "- track_name: Name of the song\n",
        "- artist(s)_name: Name of the artist(s) of the song\n",
        "- artist_count: Number of artists contributing to the song\n",
        "- released_year: Year when the song was released\n",
        "- released_month: Month when the song was released\n",
        "- released_day: Day of the month when the song was released\n",
        "- in_spotify_playlists: Number of Spotify playlists the song is included in\n",
        "- in_spotify_charts: Presence and rank of the song on Spotify charts\n",
        "- streams: Total number of streams on Spotify\n",
        "- in_apple_playlists: Number of Apple Music playlists the song is included in\n",
        "- in_apple_charts: Presence and rank of the song on Apple Music charts\n",
        "- in_deezer_playlists: Number of Deezer playlists the song is included in\n",
        "- in_deezer_charts: Presence and rank of the song on Deezer charts\n",
        "- in_shazam_charts: Presence and rank of the song on Shazam charts\n",
        "- bpm: Beats per minute, a measure of song tempo\n",
        "- key: Key of the song\n",
        "- mode: Mode of the song (major or minor)\n",
        "- danceability_%: Percentage indicating how suitable the song is for dancing\n",
        "- valence_%: Positivity of the song's musical content\n",
        "- energy_%: Perceived energy level of the song\n",
        "- acousticness_%: Amount of acoustic sound in the song\n",
        "- instrumentalness_%: Amount of instrumental content in the song\n",
        "- liveness_%: Presence of live performance elements\n",
        "- speechiness_%: Amount of spoken words in the song"
      ],
      "metadata": {
        "id": "bXpgz1vj_aRm"
      }
    },
    {
      "cell_type": "markdown",
      "source": [
        "###**Initial plan for data exploration**\n",
        "\n",
        "\n",
        "\n",
        "---\n",
        "\n",
        "\n",
        "*   Summary Statistics\n",
        "*   Distribution Analysis\n",
        "*   Categorical Attributes\n",
        "*   Correlation Analysis\n",
        "*   Pairwise Scatterplots\n",
        "*   Visualization of Trends"
      ],
      "metadata": {
        "id": "uQTunarXBKoV"
      }
    },
    {
      "cell_type": "markdown",
      "source": [
        "###**Data Cleaning and Feature Engineering**"
      ],
      "metadata": {
        "id": "5Wmjds_yCbil"
      }
    },
    {
      "cell_type": "code",
      "source": [
        "data.head()"
      ],
      "metadata": {
        "colab": {
          "base_uri": "https://localhost:8080/"
        },
        "id": "OqlwmAYHCfId",
        "outputId": "8534bc81-ac21-43ed-832b-b502a4af14d3"
      },
      "execution_count": null,
      "outputs": [
        {
          "output_type": "execute_result",
          "data": {
            "text/plain": [
              "                            track_name    artist(s)_name  artist_count  \\\n",
              "0  Seven (feat. Latto) (Explicit Ver.)  Latto, Jung Kook             2   \n",
              "1                                 LALA       Myke Towers             1   \n",
              "2                              vampire    Olivia Rodrigo             1   \n",
              "3                         Cruel Summer      Taylor Swift             1   \n",
              "4                       WHERE SHE GOES         Bad Bunny             1   \n",
              "\n",
              "   released_year  released_month  released_day  in_spotify_playlists  \\\n",
              "0           2023               7            14                   553   \n",
              "1           2023               3            23                  1474   \n",
              "2           2023               6            30                  1397   \n",
              "3           2019               8            23                  7858   \n",
              "4           2023               5            18                  3133   \n",
              "\n",
              "   in_spotify_charts    streams  in_apple_playlists  ...  bpm key   mode  \\\n",
              "0                147  141381703                  43  ...  125   B  Major   \n",
              "1                 48  133716286                  48  ...   92  C#  Major   \n",
              "2                113  140003974                  94  ...  138   F  Major   \n",
              "3                100  800840817                 116  ...  170   A  Major   \n",
              "4                 50  303236322                  84  ...  144   A  Minor   \n",
              "\n",
              "  danceability_%  valence_% energy_% acousticness_%  instrumentalness_%  \\\n",
              "0             80         89       83             31                   0   \n",
              "1             71         61       74              7                   0   \n",
              "2             51         32       53             17                   0   \n",
              "3             55         58       72             11                   0   \n",
              "4             65         23       80             14                  63   \n",
              "\n",
              "   liveness_%  speechiness_%  \n",
              "0           8              4  \n",
              "1          10              4  \n",
              "2          31              6  \n",
              "3          11             15  \n",
              "4          11              6  \n",
              "\n",
              "[5 rows x 24 columns]"
            ],
            "text/html": [
              "\n",
              "  <div id=\"df-afeea644-a46c-4023-89a8-2699e3319711\" class=\"colab-df-container\">\n",
              "    <div>\n",
              "<style scoped>\n",
              "    .dataframe tbody tr th:only-of-type {\n",
              "        vertical-align: middle;\n",
              "    }\n",
              "\n",
              "    .dataframe tbody tr th {\n",
              "        vertical-align: top;\n",
              "    }\n",
              "\n",
              "    .dataframe thead th {\n",
              "        text-align: right;\n",
              "    }\n",
              "</style>\n",
              "<table border=\"1\" class=\"dataframe\">\n",
              "  <thead>\n",
              "    <tr style=\"text-align: right;\">\n",
              "      <th></th>\n",
              "      <th>track_name</th>\n",
              "      <th>artist(s)_name</th>\n",
              "      <th>artist_count</th>\n",
              "      <th>released_year</th>\n",
              "      <th>released_month</th>\n",
              "      <th>released_day</th>\n",
              "      <th>in_spotify_playlists</th>\n",
              "      <th>in_spotify_charts</th>\n",
              "      <th>streams</th>\n",
              "      <th>in_apple_playlists</th>\n",
              "      <th>...</th>\n",
              "      <th>bpm</th>\n",
              "      <th>key</th>\n",
              "      <th>mode</th>\n",
              "      <th>danceability_%</th>\n",
              "      <th>valence_%</th>\n",
              "      <th>energy_%</th>\n",
              "      <th>acousticness_%</th>\n",
              "      <th>instrumentalness_%</th>\n",
              "      <th>liveness_%</th>\n",
              "      <th>speechiness_%</th>\n",
              "    </tr>\n",
              "  </thead>\n",
              "  <tbody>\n",
              "    <tr>\n",
              "      <th>0</th>\n",
              "      <td>Seven (feat. Latto) (Explicit Ver.)</td>\n",
              "      <td>Latto, Jung Kook</td>\n",
              "      <td>2</td>\n",
              "      <td>2023</td>\n",
              "      <td>7</td>\n",
              "      <td>14</td>\n",
              "      <td>553</td>\n",
              "      <td>147</td>\n",
              "      <td>141381703</td>\n",
              "      <td>43</td>\n",
              "      <td>...</td>\n",
              "      <td>125</td>\n",
              "      <td>B</td>\n",
              "      <td>Major</td>\n",
              "      <td>80</td>\n",
              "      <td>89</td>\n",
              "      <td>83</td>\n",
              "      <td>31</td>\n",
              "      <td>0</td>\n",
              "      <td>8</td>\n",
              "      <td>4</td>\n",
              "    </tr>\n",
              "    <tr>\n",
              "      <th>1</th>\n",
              "      <td>LALA</td>\n",
              "      <td>Myke Towers</td>\n",
              "      <td>1</td>\n",
              "      <td>2023</td>\n",
              "      <td>3</td>\n",
              "      <td>23</td>\n",
              "      <td>1474</td>\n",
              "      <td>48</td>\n",
              "      <td>133716286</td>\n",
              "      <td>48</td>\n",
              "      <td>...</td>\n",
              "      <td>92</td>\n",
              "      <td>C#</td>\n",
              "      <td>Major</td>\n",
              "      <td>71</td>\n",
              "      <td>61</td>\n",
              "      <td>74</td>\n",
              "      <td>7</td>\n",
              "      <td>0</td>\n",
              "      <td>10</td>\n",
              "      <td>4</td>\n",
              "    </tr>\n",
              "    <tr>\n",
              "      <th>2</th>\n",
              "      <td>vampire</td>\n",
              "      <td>Olivia Rodrigo</td>\n",
              "      <td>1</td>\n",
              "      <td>2023</td>\n",
              "      <td>6</td>\n",
              "      <td>30</td>\n",
              "      <td>1397</td>\n",
              "      <td>113</td>\n",
              "      <td>140003974</td>\n",
              "      <td>94</td>\n",
              "      <td>...</td>\n",
              "      <td>138</td>\n",
              "      <td>F</td>\n",
              "      <td>Major</td>\n",
              "      <td>51</td>\n",
              "      <td>32</td>\n",
              "      <td>53</td>\n",
              "      <td>17</td>\n",
              "      <td>0</td>\n",
              "      <td>31</td>\n",
              "      <td>6</td>\n",
              "    </tr>\n",
              "    <tr>\n",
              "      <th>3</th>\n",
              "      <td>Cruel Summer</td>\n",
              "      <td>Taylor Swift</td>\n",
              "      <td>1</td>\n",
              "      <td>2019</td>\n",
              "      <td>8</td>\n",
              "      <td>23</td>\n",
              "      <td>7858</td>\n",
              "      <td>100</td>\n",
              "      <td>800840817</td>\n",
              "      <td>116</td>\n",
              "      <td>...</td>\n",
              "      <td>170</td>\n",
              "      <td>A</td>\n",
              "      <td>Major</td>\n",
              "      <td>55</td>\n",
              "      <td>58</td>\n",
              "      <td>72</td>\n",
              "      <td>11</td>\n",
              "      <td>0</td>\n",
              "      <td>11</td>\n",
              "      <td>15</td>\n",
              "    </tr>\n",
              "    <tr>\n",
              "      <th>4</th>\n",
              "      <td>WHERE SHE GOES</td>\n",
              "      <td>Bad Bunny</td>\n",
              "      <td>1</td>\n",
              "      <td>2023</td>\n",
              "      <td>5</td>\n",
              "      <td>18</td>\n",
              "      <td>3133</td>\n",
              "      <td>50</td>\n",
              "      <td>303236322</td>\n",
              "      <td>84</td>\n",
              "      <td>...</td>\n",
              "      <td>144</td>\n",
              "      <td>A</td>\n",
              "      <td>Minor</td>\n",
              "      <td>65</td>\n",
              "      <td>23</td>\n",
              "      <td>80</td>\n",
              "      <td>14</td>\n",
              "      <td>63</td>\n",
              "      <td>11</td>\n",
              "      <td>6</td>\n",
              "    </tr>\n",
              "  </tbody>\n",
              "</table>\n",
              "<p>5 rows × 24 columns</p>\n",
              "</div>\n",
              "    <div class=\"colab-df-buttons\">\n",
              "\n",
              "  <div class=\"colab-df-container\">\n",
              "    <button class=\"colab-df-convert\" onclick=\"convertToInteractive('df-afeea644-a46c-4023-89a8-2699e3319711')\"\n",
              "            title=\"Convert this dataframe to an interactive table.\"\n",
              "            style=\"display:none;\">\n",
              "\n",
              "  <svg xmlns=\"http://www.w3.org/2000/svg\" height=\"24px\" viewBox=\"0 -960 960 960\">\n",
              "    <path d=\"M120-120v-720h720v720H120Zm60-500h600v-160H180v160Zm220 220h160v-160H400v160Zm0 220h160v-160H400v160ZM180-400h160v-160H180v160Zm440 0h160v-160H620v160ZM180-180h160v-160H180v160Zm440 0h160v-160H620v160Z\"/>\n",
              "  </svg>\n",
              "    </button>\n",
              "\n",
              "  <style>\n",
              "    .colab-df-container {\n",
              "      display:flex;\n",
              "      gap: 12px;\n",
              "    }\n",
              "\n",
              "    .colab-df-convert {\n",
              "      background-color: #E8F0FE;\n",
              "      border: none;\n",
              "      border-radius: 50%;\n",
              "      cursor: pointer;\n",
              "      display: none;\n",
              "      fill: #1967D2;\n",
              "      height: 32px;\n",
              "      padding: 0 0 0 0;\n",
              "      width: 32px;\n",
              "    }\n",
              "\n",
              "    .colab-df-convert:hover {\n",
              "      background-color: #E2EBFA;\n",
              "      box-shadow: 0px 1px 2px rgba(60, 64, 67, 0.3), 0px 1px 3px 1px rgba(60, 64, 67, 0.15);\n",
              "      fill: #174EA6;\n",
              "    }\n",
              "\n",
              "    .colab-df-buttons div {\n",
              "      margin-bottom: 4px;\n",
              "    }\n",
              "\n",
              "    [theme=dark] .colab-df-convert {\n",
              "      background-color: #3B4455;\n",
              "      fill: #D2E3FC;\n",
              "    }\n",
              "\n",
              "    [theme=dark] .colab-df-convert:hover {\n",
              "      background-color: #434B5C;\n",
              "      box-shadow: 0px 1px 3px 1px rgba(0, 0, 0, 0.15);\n",
              "      filter: drop-shadow(0px 1px 2px rgba(0, 0, 0, 0.3));\n",
              "      fill: #FFFFFF;\n",
              "    }\n",
              "  </style>\n",
              "\n",
              "    <script>\n",
              "      const buttonEl =\n",
              "        document.querySelector('#df-afeea644-a46c-4023-89a8-2699e3319711 button.colab-df-convert');\n",
              "      buttonEl.style.display =\n",
              "        google.colab.kernel.accessAllowed ? 'block' : 'none';\n",
              "\n",
              "      async function convertToInteractive(key) {\n",
              "        const element = document.querySelector('#df-afeea644-a46c-4023-89a8-2699e3319711');\n",
              "        const dataTable =\n",
              "          await google.colab.kernel.invokeFunction('convertToInteractive',\n",
              "                                                    [key], {});\n",
              "        if (!dataTable) return;\n",
              "\n",
              "        const docLinkHtml = 'Like what you see? Visit the ' +\n",
              "          '<a target=\"_blank\" href=https://colab.research.google.com/notebooks/data_table.ipynb>data table notebook</a>'\n",
              "          + ' to learn more about interactive tables.';\n",
              "        element.innerHTML = '';\n",
              "        dataTable['output_type'] = 'display_data';\n",
              "        await google.colab.output.renderOutput(dataTable, element);\n",
              "        const docLink = document.createElement('div');\n",
              "        docLink.innerHTML = docLinkHtml;\n",
              "        element.appendChild(docLink);\n",
              "      }\n",
              "    </script>\n",
              "  </div>\n",
              "\n",
              "\n",
              "<div id=\"df-49d78713-f583-4688-99dc-6a269ea3e5df\">\n",
              "  <button class=\"colab-df-quickchart\" onclick=\"quickchart('df-49d78713-f583-4688-99dc-6a269ea3e5df')\"\n",
              "            title=\"Suggest charts.\"\n",
              "            style=\"display:none;\">\n",
              "\n",
              "<svg xmlns=\"http://www.w3.org/2000/svg\" height=\"24px\"viewBox=\"0 0 24 24\"\n",
              "     width=\"24px\">\n",
              "    <g>\n",
              "        <path d=\"M19 3H5c-1.1 0-2 .9-2 2v14c0 1.1.9 2 2 2h14c1.1 0 2-.9 2-2V5c0-1.1-.9-2-2-2zM9 17H7v-7h2v7zm4 0h-2V7h2v10zm4 0h-2v-4h2v4z\"/>\n",
              "    </g>\n",
              "</svg>\n",
              "  </button>\n",
              "\n",
              "<style>\n",
              "  .colab-df-quickchart {\n",
              "      --bg-color: #E8F0FE;\n",
              "      --fill-color: #1967D2;\n",
              "      --hover-bg-color: #E2EBFA;\n",
              "      --hover-fill-color: #174EA6;\n",
              "      --disabled-fill-color: #AAA;\n",
              "      --disabled-bg-color: #DDD;\n",
              "  }\n",
              "\n",
              "  [theme=dark] .colab-df-quickchart {\n",
              "      --bg-color: #3B4455;\n",
              "      --fill-color: #D2E3FC;\n",
              "      --hover-bg-color: #434B5C;\n",
              "      --hover-fill-color: #FFFFFF;\n",
              "      --disabled-bg-color: #3B4455;\n",
              "      --disabled-fill-color: #666;\n",
              "  }\n",
              "\n",
              "  .colab-df-quickchart {\n",
              "    background-color: var(--bg-color);\n",
              "    border: none;\n",
              "    border-radius: 50%;\n",
              "    cursor: pointer;\n",
              "    display: none;\n",
              "    fill: var(--fill-color);\n",
              "    height: 32px;\n",
              "    padding: 0;\n",
              "    width: 32px;\n",
              "  }\n",
              "\n",
              "  .colab-df-quickchart:hover {\n",
              "    background-color: var(--hover-bg-color);\n",
              "    box-shadow: 0 1px 2px rgba(60, 64, 67, 0.3), 0 1px 3px 1px rgba(60, 64, 67, 0.15);\n",
              "    fill: var(--button-hover-fill-color);\n",
              "  }\n",
              "\n",
              "  .colab-df-quickchart-complete:disabled,\n",
              "  .colab-df-quickchart-complete:disabled:hover {\n",
              "    background-color: var(--disabled-bg-color);\n",
              "    fill: var(--disabled-fill-color);\n",
              "    box-shadow: none;\n",
              "  }\n",
              "\n",
              "  .colab-df-spinner {\n",
              "    border: 2px solid var(--fill-color);\n",
              "    border-color: transparent;\n",
              "    border-bottom-color: var(--fill-color);\n",
              "    animation:\n",
              "      spin 1s steps(1) infinite;\n",
              "  }\n",
              "\n",
              "  @keyframes spin {\n",
              "    0% {\n",
              "      border-color: transparent;\n",
              "      border-bottom-color: var(--fill-color);\n",
              "      border-left-color: var(--fill-color);\n",
              "    }\n",
              "    20% {\n",
              "      border-color: transparent;\n",
              "      border-left-color: var(--fill-color);\n",
              "      border-top-color: var(--fill-color);\n",
              "    }\n",
              "    30% {\n",
              "      border-color: transparent;\n",
              "      border-left-color: var(--fill-color);\n",
              "      border-top-color: var(--fill-color);\n",
              "      border-right-color: var(--fill-color);\n",
              "    }\n",
              "    40% {\n",
              "      border-color: transparent;\n",
              "      border-right-color: var(--fill-color);\n",
              "      border-top-color: var(--fill-color);\n",
              "    }\n",
              "    60% {\n",
              "      border-color: transparent;\n",
              "      border-right-color: var(--fill-color);\n",
              "    }\n",
              "    80% {\n",
              "      border-color: transparent;\n",
              "      border-right-color: var(--fill-color);\n",
              "      border-bottom-color: var(--fill-color);\n",
              "    }\n",
              "    90% {\n",
              "      border-color: transparent;\n",
              "      border-bottom-color: var(--fill-color);\n",
              "    }\n",
              "  }\n",
              "</style>\n",
              "\n",
              "  <script>\n",
              "    async function quickchart(key) {\n",
              "      const quickchartButtonEl =\n",
              "        document.querySelector('#' + key + ' button');\n",
              "      quickchartButtonEl.disabled = true;  // To prevent multiple clicks.\n",
              "      quickchartButtonEl.classList.add('colab-df-spinner');\n",
              "      try {\n",
              "        const charts = await google.colab.kernel.invokeFunction(\n",
              "            'suggestCharts', [key], {});\n",
              "      } catch (error) {\n",
              "        console.error('Error during call to suggestCharts:', error);\n",
              "      }\n",
              "      quickchartButtonEl.classList.remove('colab-df-spinner');\n",
              "      quickchartButtonEl.classList.add('colab-df-quickchart-complete');\n",
              "    }\n",
              "    (() => {\n",
              "      let quickchartButtonEl =\n",
              "        document.querySelector('#df-49d78713-f583-4688-99dc-6a269ea3e5df button');\n",
              "      quickchartButtonEl.style.display =\n",
              "        google.colab.kernel.accessAllowed ? 'block' : 'none';\n",
              "    })();\n",
              "  </script>\n",
              "</div>\n",
              "    </div>\n",
              "  </div>\n"
            ]
          },
          "metadata": {},
          "execution_count": 219
        }
      ]
    },
    {
      "cell_type": "code",
      "source": [
        "data.shape"
      ],
      "metadata": {
        "colab": {
          "base_uri": "https://localhost:8080/"
        },
        "id": "B7awHIL4Cz99",
        "outputId": "85d37a34-fe91-45eb-c6de-a24915cf464c"
      },
      "execution_count": null,
      "outputs": [
        {
          "output_type": "execute_result",
          "data": {
            "text/plain": [
              "(953, 24)"
            ]
          },
          "metadata": {},
          "execution_count": 220
        }
      ]
    },
    {
      "cell_type": "code",
      "source": [
        "data.info()"
      ],
      "metadata": {
        "colab": {
          "base_uri": "https://localhost:8080/"
        },
        "id": "JRX7XTKGC4nl",
        "outputId": "9c5bb685-a70a-4d84-ae8c-227f3a06a981"
      },
      "execution_count": null,
      "outputs": [
        {
          "output_type": "stream",
          "name": "stdout",
          "text": [
            "<class 'pandas.core.frame.DataFrame'>\n",
            "RangeIndex: 953 entries, 0 to 952\n",
            "Data columns (total 24 columns):\n",
            " #   Column                Non-Null Count  Dtype \n",
            "---  ------                --------------  ----- \n",
            " 0   track_name            953 non-null    object\n",
            " 1   artist(s)_name        953 non-null    object\n",
            " 2   artist_count          953 non-null    int64 \n",
            " 3   released_year         953 non-null    int64 \n",
            " 4   released_month        953 non-null    int64 \n",
            " 5   released_day          953 non-null    int64 \n",
            " 6   in_spotify_playlists  953 non-null    int64 \n",
            " 7   in_spotify_charts     953 non-null    int64 \n",
            " 8   streams               953 non-null    object\n",
            " 9   in_apple_playlists    953 non-null    int64 \n",
            " 10  in_apple_charts       953 non-null    int64 \n",
            " 11  in_deezer_playlists   953 non-null    object\n",
            " 12  in_deezer_charts      953 non-null    int64 \n",
            " 13  in_shazam_charts      903 non-null    object\n",
            " 14  bpm                   953 non-null    int64 \n",
            " 15  key                   858 non-null    object\n",
            " 16  mode                  953 non-null    object\n",
            " 17  danceability_%        953 non-null    int64 \n",
            " 18  valence_%             953 non-null    int64 \n",
            " 19  energy_%              953 non-null    int64 \n",
            " 20  acousticness_%        953 non-null    int64 \n",
            " 21  instrumentalness_%    953 non-null    int64 \n",
            " 22  liveness_%            953 non-null    int64 \n",
            " 23  speechiness_%         953 non-null    int64 \n",
            "dtypes: int64(17), object(7)\n",
            "memory usage: 178.8+ KB\n"
          ]
        }
      ]
    },
    {
      "cell_type": "code",
      "source": [
        "data.drop(index=574,inplace=True)"
      ],
      "metadata": {
        "id": "JoS_EcZOHn8t"
      },
      "execution_count": null,
      "outputs": []
    },
    {
      "cell_type": "code",
      "source": [
        "data[\"streams\"] = pd.to_numeric(data[\"streams\"])"
      ],
      "metadata": {
        "id": "iUidNG2EIJvl"
      },
      "execution_count": null,
      "outputs": []
    },
    {
      "cell_type": "code",
      "source": [
        "data['is_non_numeric'] = data.in_deezer_playlists.str.isnumeric()"
      ],
      "metadata": {
        "id": "tUex0BtEEPXO"
      },
      "execution_count": null,
      "outputs": []
    },
    {
      "cell_type": "code",
      "source": [
        "data.loc[data[\"is_non_numeric\"]== False][\"in_deezer_playlists\"]"
      ],
      "metadata": {
        "colab": {
          "base_uri": "https://localhost:8080/"
        },
        "id": "CsoG_bLkFjDm",
        "outputId": "e280062c-00d8-41ac-eced-61aa2861ba0a"
      },
      "execution_count": null,
      "outputs": [
        {
          "output_type": "execute_result",
          "data": {
            "text/plain": [
              "48     2,445\n",
              "54     3,394\n",
              "55     3,421\n",
              "65     4,053\n",
              "73     1,056\n",
              "       ...  \n",
              "761    2,453\n",
              "762    2,430\n",
              "871    6,720\n",
              "893    1,315\n",
              "910    7,827\n",
              "Name: in_deezer_playlists, Length: 79, dtype: object"
            ]
          },
          "metadata": {},
          "execution_count": 225
        }
      ]
    },
    {
      "cell_type": "code",
      "source": [
        "#try to remove \",\"\n",
        "data[\"in_deezer_playlists\"]=data[\"in_deezer_playlists\"].str.replace(\",\",\"\" )"
      ],
      "metadata": {
        "id": "HSbtMj-c-Vwd"
      },
      "execution_count": null,
      "outputs": []
    },
    {
      "cell_type": "code",
      "source": [
        "data.loc[data[\"is_non_numeric\"]== False][\"in_deezer_playlists\"]"
      ],
      "metadata": {
        "colab": {
          "base_uri": "https://localhost:8080/"
        },
        "id": "9Mll52KT991e",
        "outputId": "5918aaa8-7488-40be-c646-4e88ee950bd5"
      },
      "execution_count": null,
      "outputs": [
        {
          "output_type": "execute_result",
          "data": {
            "text/plain": [
              "48     2445\n",
              "54     3394\n",
              "55     3421\n",
              "65     4053\n",
              "73     1056\n",
              "       ... \n",
              "761    2453\n",
              "762    2430\n",
              "871    6720\n",
              "893    1315\n",
              "910    7827\n",
              "Name: in_deezer_playlists, Length: 79, dtype: object"
            ]
          },
          "metadata": {},
          "execution_count": 227
        }
      ]
    },
    {
      "cell_type": "code",
      "source": [
        "data[\"in_deezer_playlists\"]=pd.to_numeric (data[\"in_deezer_playlists\"])"
      ],
      "metadata": {
        "id": "W_AiwSHrJ0wd"
      },
      "execution_count": null,
      "outputs": []
    },
    {
      "cell_type": "code",
      "source": [
        "data.info()"
      ],
      "metadata": {
        "colab": {
          "base_uri": "https://localhost:8080/"
        },
        "id": "sOtg3D5zJ_dO",
        "outputId": "ca1fb163-5ce7-4e6a-9328-212480bc466b"
      },
      "execution_count": null,
      "outputs": [
        {
          "output_type": "stream",
          "name": "stdout",
          "text": [
            "<class 'pandas.core.frame.DataFrame'>\n",
            "Int64Index: 952 entries, 0 to 952\n",
            "Data columns (total 25 columns):\n",
            " #   Column                Non-Null Count  Dtype \n",
            "---  ------                --------------  ----- \n",
            " 0   track_name            952 non-null    object\n",
            " 1   artist(s)_name        952 non-null    object\n",
            " 2   artist_count          952 non-null    int64 \n",
            " 3   released_year         952 non-null    int64 \n",
            " 4   released_month        952 non-null    int64 \n",
            " 5   released_day          952 non-null    int64 \n",
            " 6   in_spotify_playlists  952 non-null    int64 \n",
            " 7   in_spotify_charts     952 non-null    int64 \n",
            " 8   streams               952 non-null    int64 \n",
            " 9   in_apple_playlists    952 non-null    int64 \n",
            " 10  in_apple_charts       952 non-null    int64 \n",
            " 11  in_deezer_playlists   952 non-null    int64 \n",
            " 12  in_deezer_charts      952 non-null    int64 \n",
            " 13  in_shazam_charts      902 non-null    object\n",
            " 14  bpm                   952 non-null    int64 \n",
            " 15  key                   857 non-null    object\n",
            " 16  mode                  952 non-null    object\n",
            " 17  danceability_%        952 non-null    int64 \n",
            " 18  valence_%             952 non-null    int64 \n",
            " 19  energy_%              952 non-null    int64 \n",
            " 20  acousticness_%        952 non-null    int64 \n",
            " 21  instrumentalness_%    952 non-null    int64 \n",
            " 22  liveness_%            952 non-null    int64 \n",
            " 23  speechiness_%         952 non-null    int64 \n",
            " 24  is_non_numeric        952 non-null    bool  \n",
            "dtypes: bool(1), int64(19), object(5)\n",
            "memory usage: 186.9+ KB\n"
          ]
        }
      ]
    },
    {
      "cell_type": "code",
      "source": [
        "#do the same for in_shazam_charts\n",
        "data.loc[data[\"is_non_numeric\"]== False][\"in_shazam_charts\"]\n"
      ],
      "metadata": {
        "colab": {
          "base_uri": "https://localhost:8080/"
        },
        "id": "CdvAIbBFKNaF",
        "outputId": "c3010a04-2b50-49f2-bc4d-85fdfd8efb17"
      },
      "execution_count": null,
      "outputs": [
        {
          "output_type": "execute_result",
          "data": {
            "text/plain": [
              "48     140\n",
              "54     NaN\n",
              "55     NaN\n",
              "65       0\n",
              "73     NaN\n",
              "      ... \n",
              "761     84\n",
              "762     36\n",
              "871     99\n",
              "893      2\n",
              "910      0\n",
              "Name: in_shazam_charts, Length: 79, dtype: object"
            ]
          },
          "metadata": {},
          "execution_count": 230
        }
      ]
    },
    {
      "cell_type": "code",
      "source": [
        "data[\"in_shazam_charts\"]=data[\"in_shazam_charts\"].str.replace(\",\",\"\" )"
      ],
      "metadata": {
        "id": "GvHUcFhZK2p9"
      },
      "execution_count": null,
      "outputs": []
    },
    {
      "cell_type": "code",
      "source": [
        "data[\"in_shazam_charts\"] =pd.to_numeric(data[\"in_shazam_charts\"])"
      ],
      "metadata": {
        "id": "lr86GlXEK3bV"
      },
      "execution_count": null,
      "outputs": []
    },
    {
      "cell_type": "code",
      "source": [
        "data.isna().sum()"
      ],
      "metadata": {
        "colab": {
          "base_uri": "https://localhost:8080/"
        },
        "id": "xYKVU4BNLQA1",
        "outputId": "f86e4167-c670-4aee-b001-bed92119dfaa"
      },
      "execution_count": null,
      "outputs": [
        {
          "output_type": "execute_result",
          "data": {
            "text/plain": [
              "track_name               0\n",
              "artist(s)_name           0\n",
              "artist_count             0\n",
              "released_year            0\n",
              "released_month           0\n",
              "released_day             0\n",
              "in_spotify_playlists     0\n",
              "in_spotify_charts        0\n",
              "streams                  0\n",
              "in_apple_playlists       0\n",
              "in_apple_charts          0\n",
              "in_deezer_playlists      0\n",
              "in_deezer_charts         0\n",
              "in_shazam_charts        50\n",
              "bpm                      0\n",
              "key                     95\n",
              "mode                     0\n",
              "danceability_%           0\n",
              "valence_%                0\n",
              "energy_%                 0\n",
              "acousticness_%           0\n",
              "instrumentalness_%       0\n",
              "liveness_%               0\n",
              "speechiness_%            0\n",
              "is_non_numeric           0\n",
              "dtype: int64"
            ]
          },
          "metadata": {},
          "execution_count": 233
        }
      ]
    },
    {
      "cell_type": "code",
      "source": [
        "data.fillna(0, inplace=True)"
      ],
      "metadata": {
        "id": "j0lWzi7hLtCV"
      },
      "execution_count": null,
      "outputs": []
    },
    {
      "cell_type": "code",
      "source": [
        "data.isna().sum()"
      ],
      "metadata": {
        "colab": {
          "base_uri": "https://localhost:8080/"
        },
        "id": "B_Q8I-ORLTyV",
        "outputId": "aa9105e8-fab6-416b-fed5-0d5e1557483a"
      },
      "execution_count": null,
      "outputs": [
        {
          "output_type": "execute_result",
          "data": {
            "text/plain": [
              "track_name              0\n",
              "artist(s)_name          0\n",
              "artist_count            0\n",
              "released_year           0\n",
              "released_month          0\n",
              "released_day            0\n",
              "in_spotify_playlists    0\n",
              "in_spotify_charts       0\n",
              "streams                 0\n",
              "in_apple_playlists      0\n",
              "in_apple_charts         0\n",
              "in_deezer_playlists     0\n",
              "in_deezer_charts        0\n",
              "in_shazam_charts        0\n",
              "bpm                     0\n",
              "key                     0\n",
              "mode                    0\n",
              "danceability_%          0\n",
              "valence_%               0\n",
              "energy_%                0\n",
              "acousticness_%          0\n",
              "instrumentalness_%      0\n",
              "liveness_%              0\n",
              "speechiness_%           0\n",
              "is_non_numeric          0\n",
              "dtype: int64"
            ]
          },
          "metadata": {},
          "execution_count": 235
        }
      ]
    },
    {
      "cell_type": "code",
      "source": [
        "data.drop('is_non_numeric',axis=\"columns\",inplace=True)"
      ],
      "metadata": {
        "id": "Ir6_exQcMT8d"
      },
      "execution_count": null,
      "outputs": []
    },
    {
      "cell_type": "code",
      "source": [
        "data.info()"
      ],
      "metadata": {
        "colab": {
          "base_uri": "https://localhost:8080/"
        },
        "id": "fvHpPMufMOkV",
        "outputId": "81d90cf7-1919-4baf-dc07-0253f5e8722c"
      },
      "execution_count": null,
      "outputs": [
        {
          "output_type": "stream",
          "name": "stdout",
          "text": [
            "<class 'pandas.core.frame.DataFrame'>\n",
            "Int64Index: 952 entries, 0 to 952\n",
            "Data columns (total 24 columns):\n",
            " #   Column                Non-Null Count  Dtype  \n",
            "---  ------                --------------  -----  \n",
            " 0   track_name            952 non-null    object \n",
            " 1   artist(s)_name        952 non-null    object \n",
            " 2   artist_count          952 non-null    int64  \n",
            " 3   released_year         952 non-null    int64  \n",
            " 4   released_month        952 non-null    int64  \n",
            " 5   released_day          952 non-null    int64  \n",
            " 6   in_spotify_playlists  952 non-null    int64  \n",
            " 7   in_spotify_charts     952 non-null    int64  \n",
            " 8   streams               952 non-null    int64  \n",
            " 9   in_apple_playlists    952 non-null    int64  \n",
            " 10  in_apple_charts       952 non-null    int64  \n",
            " 11  in_deezer_playlists   952 non-null    int64  \n",
            " 12  in_deezer_charts      952 non-null    int64  \n",
            " 13  in_shazam_charts      952 non-null    float64\n",
            " 14  bpm                   952 non-null    int64  \n",
            " 15  key                   952 non-null    object \n",
            " 16  mode                  952 non-null    object \n",
            " 17  danceability_%        952 non-null    int64  \n",
            " 18  valence_%             952 non-null    int64  \n",
            " 19  energy_%              952 non-null    int64  \n",
            " 20  acousticness_%        952 non-null    int64  \n",
            " 21  instrumentalness_%    952 non-null    int64  \n",
            " 22  liveness_%            952 non-null    int64  \n",
            " 23  speechiness_%         952 non-null    int64  \n",
            "dtypes: float64(1), int64(19), object(4)\n",
            "memory usage: 185.9+ KB\n"
          ]
        }
      ]
    },
    {
      "cell_type": "code",
      "source": [
        "data =data.drop_duplicates()"
      ],
      "metadata": {
        "id": "p0vqMBEeQ0xN"
      },
      "execution_count": null,
      "outputs": []
    },
    {
      "cell_type": "code",
      "source": [
        "data['mode'].value_counts()"
      ],
      "metadata": {
        "colab": {
          "base_uri": "https://localhost:8080/"
        },
        "id": "xujxteWIO9V1",
        "outputId": "079b1945-ceef-4caa-b4ef-9e9f81aca07d"
      },
      "execution_count": null,
      "outputs": [
        {
          "output_type": "execute_result",
          "data": {
            "text/plain": [
              "Major    549\n",
              "Minor    403\n",
              "Name: mode, dtype: int64"
            ]
          },
          "metadata": {},
          "execution_count": 239
        }
      ]
    },
    {
      "cell_type": "code",
      "source": [
        "data['mode']=data['mode'].map({\n",
        "    'Major': 1,\n",
        "     'Minor': 0\n",
        "})"
      ],
      "metadata": {
        "id": "Nt75dZKiPH4t"
      },
      "execution_count": null,
      "outputs": []
    },
    {
      "cell_type": "code",
      "source": [
        "data['artist(s)_name']"
      ],
      "metadata": {
        "colab": {
          "base_uri": "https://localhost:8080/"
        },
        "id": "4UgjHoqVQT_E",
        "outputId": "7b8de56e-4485-49d0-cc81-830e4cade026"
      },
      "execution_count": null,
      "outputs": [
        {
          "output_type": "execute_result",
          "data": {
            "text/plain": [
              "0        Latto, Jung Kook\n",
              "1             Myke Towers\n",
              "2          Olivia Rodrigo\n",
              "3            Taylor Swift\n",
              "4               Bad Bunny\n",
              "              ...        \n",
              "948          Selena Gomez\n",
              "949          Taylor Swift\n",
              "950    Feid, Paulo Londra\n",
              "951    Feid, Sech, Jhayco\n",
              "952             Burna Boy\n",
              "Name: artist(s)_name, Length: 952, dtype: object"
            ]
          },
          "metadata": {},
          "execution_count": 241
        }
      ]
    },
    {
      "cell_type": "code",
      "source": [
        "#Split artist_count into a list\n",
        "data['artist(s)_name'] = data['artist(s)_name'].str.split(',')"
      ],
      "metadata": {
        "id": "nRQozurWQDwO"
      },
      "execution_count": null,
      "outputs": []
    },
    {
      "cell_type": "code",
      "source": [
        "data.shape"
      ],
      "metadata": {
        "colab": {
          "base_uri": "https://localhost:8080/"
        },
        "id": "jYZ4-86SMQQN",
        "outputId": "6a11e142-8cd3-4d8f-b5f8-0da1fe287b93"
      },
      "execution_count": null,
      "outputs": [
        {
          "output_type": "execute_result",
          "data": {
            "text/plain": [
              "(952, 24)"
            ]
          },
          "metadata": {},
          "execution_count": 243
        }
      ]
    },
    {
      "cell_type": "markdown",
      "source": [
        "### **Data Analysis**"
      ],
      "metadata": {
        "id": "xp9CquN0Rqw2"
      }
    },
    {
      "cell_type": "code",
      "source": [
        "data.describe()"
      ],
      "metadata": {
        "colab": {
          "base_uri": "https://localhost:8080/"
        },
        "id": "Foh-bbJ0RsmN",
        "outputId": "b43ec554-d6bd-42cd-ea90-f10ef73f9b13"
      },
      "execution_count": null,
      "outputs": [
        {
          "output_type": "execute_result",
          "data": {
            "text/plain": [
              "       artist_count  released_year  released_month  released_day  \\\n",
              "count    952.000000     952.000000      952.000000    952.000000   \n",
              "mean       1.556723    2018.288866        6.038866     13.944328   \n",
              "std        0.893331      11.011397        3.564571      9.197223   \n",
              "min        1.000000    1930.000000        1.000000      1.000000   \n",
              "25%        1.000000    2020.000000        3.000000      6.000000   \n",
              "50%        1.000000    2022.000000        6.000000     13.000000   \n",
              "75%        2.000000    2022.000000        9.000000     22.000000   \n",
              "max        8.000000    2023.000000       12.000000     31.000000   \n",
              "\n",
              "       in_spotify_playlists  in_spotify_charts       streams  \\\n",
              "count            952.000000         952.000000  9.520000e+02   \n",
              "mean            5202.565126          12.022059  5.141374e+08   \n",
              "std             7901.400683          19.582405  5.668569e+08   \n",
              "min               31.000000           0.000000  2.762000e+03   \n",
              "25%              874.500000           0.000000  1.416362e+08   \n",
              "50%             2216.500000           3.000000  2.905309e+08   \n",
              "75%             5573.750000          16.000000  6.738690e+08   \n",
              "max            52898.000000         147.000000  3.703895e+09   \n",
              "\n",
              "       in_apple_playlists  in_apple_charts  in_deezer_playlists  ...  \\\n",
              "count          952.000000       952.000000           952.000000  ...   \n",
              "mean            67.866597        51.963235           385.535714  ...   \n",
              "std             86.470591        50.628850          1131.078760  ...   \n",
              "min              0.000000         0.000000             0.000000  ...   \n",
              "25%             13.000000         7.000000            13.000000  ...   \n",
              "50%             34.000000        38.500000            44.000000  ...   \n",
              "75%             88.000000        87.000000           164.250000  ...   \n",
              "max            672.000000       275.000000         12367.000000  ...   \n",
              "\n",
              "       in_shazam_charts         bpm        mode  danceability_%   valence_%  \\\n",
              "count        952.000000  952.000000  952.000000      952.000000  952.000000   \n",
              "mean          56.907563  122.553571    0.576681       66.984244   51.406513   \n",
              "std          157.513706   28.069601    0.494345       14.631282   23.480526   \n",
              "min            0.000000   65.000000    0.000000       23.000000    4.000000   \n",
              "25%            0.000000   99.750000    0.000000       57.000000   32.000000   \n",
              "50%            2.000000  121.000000    1.000000       69.000000   51.000000   \n",
              "75%           33.250000  140.250000    1.000000       78.000000   70.000000   \n",
              "max         1451.000000  206.000000    1.000000       96.000000   97.000000   \n",
              "\n",
              "         energy_%  acousticness_%  instrumentalness_%  liveness_%  \\\n",
              "count  952.000000      952.000000          952.000000  952.000000   \n",
              "mean    64.274160       27.078782            1.582983   18.214286   \n",
              "std     16.558517       26.001599            8.414064   13.718374   \n",
              "min      9.000000        0.000000            0.000000    3.000000   \n",
              "25%     53.000000        6.000000            0.000000   10.000000   \n",
              "50%     66.000000       18.000000            0.000000   12.000000   \n",
              "75%     77.000000       43.000000            0.000000   24.000000   \n",
              "max     97.000000       97.000000           91.000000   97.000000   \n",
              "\n",
              "       speechiness_%  \n",
              "count     952.000000  \n",
              "mean       10.138655  \n",
              "std         9.915399  \n",
              "min         2.000000  \n",
              "25%         4.000000  \n",
              "50%         6.000000  \n",
              "75%        11.000000  \n",
              "max        64.000000  \n",
              "\n",
              "[8 rows x 21 columns]"
            ],
            "text/html": [
              "\n",
              "  <div id=\"df-e9369ccb-85ca-4a9c-bd88-dc0696d225a7\" class=\"colab-df-container\">\n",
              "    <div>\n",
              "<style scoped>\n",
              "    .dataframe tbody tr th:only-of-type {\n",
              "        vertical-align: middle;\n",
              "    }\n",
              "\n",
              "    .dataframe tbody tr th {\n",
              "        vertical-align: top;\n",
              "    }\n",
              "\n",
              "    .dataframe thead th {\n",
              "        text-align: right;\n",
              "    }\n",
              "</style>\n",
              "<table border=\"1\" class=\"dataframe\">\n",
              "  <thead>\n",
              "    <tr style=\"text-align: right;\">\n",
              "      <th></th>\n",
              "      <th>artist_count</th>\n",
              "      <th>released_year</th>\n",
              "      <th>released_month</th>\n",
              "      <th>released_day</th>\n",
              "      <th>in_spotify_playlists</th>\n",
              "      <th>in_spotify_charts</th>\n",
              "      <th>streams</th>\n",
              "      <th>in_apple_playlists</th>\n",
              "      <th>in_apple_charts</th>\n",
              "      <th>in_deezer_playlists</th>\n",
              "      <th>...</th>\n",
              "      <th>in_shazam_charts</th>\n",
              "      <th>bpm</th>\n",
              "      <th>mode</th>\n",
              "      <th>danceability_%</th>\n",
              "      <th>valence_%</th>\n",
              "      <th>energy_%</th>\n",
              "      <th>acousticness_%</th>\n",
              "      <th>instrumentalness_%</th>\n",
              "      <th>liveness_%</th>\n",
              "      <th>speechiness_%</th>\n",
              "    </tr>\n",
              "  </thead>\n",
              "  <tbody>\n",
              "    <tr>\n",
              "      <th>count</th>\n",
              "      <td>952.000000</td>\n",
              "      <td>952.000000</td>\n",
              "      <td>952.000000</td>\n",
              "      <td>952.000000</td>\n",
              "      <td>952.000000</td>\n",
              "      <td>952.000000</td>\n",
              "      <td>9.520000e+02</td>\n",
              "      <td>952.000000</td>\n",
              "      <td>952.000000</td>\n",
              "      <td>952.000000</td>\n",
              "      <td>...</td>\n",
              "      <td>952.000000</td>\n",
              "      <td>952.000000</td>\n",
              "      <td>952.000000</td>\n",
              "      <td>952.000000</td>\n",
              "      <td>952.000000</td>\n",
              "      <td>952.000000</td>\n",
              "      <td>952.000000</td>\n",
              "      <td>952.000000</td>\n",
              "      <td>952.000000</td>\n",
              "      <td>952.000000</td>\n",
              "    </tr>\n",
              "    <tr>\n",
              "      <th>mean</th>\n",
              "      <td>1.556723</td>\n",
              "      <td>2018.288866</td>\n",
              "      <td>6.038866</td>\n",
              "      <td>13.944328</td>\n",
              "      <td>5202.565126</td>\n",
              "      <td>12.022059</td>\n",
              "      <td>5.141374e+08</td>\n",
              "      <td>67.866597</td>\n",
              "      <td>51.963235</td>\n",
              "      <td>385.535714</td>\n",
              "      <td>...</td>\n",
              "      <td>56.907563</td>\n",
              "      <td>122.553571</td>\n",
              "      <td>0.576681</td>\n",
              "      <td>66.984244</td>\n",
              "      <td>51.406513</td>\n",
              "      <td>64.274160</td>\n",
              "      <td>27.078782</td>\n",
              "      <td>1.582983</td>\n",
              "      <td>18.214286</td>\n",
              "      <td>10.138655</td>\n",
              "    </tr>\n",
              "    <tr>\n",
              "      <th>std</th>\n",
              "      <td>0.893331</td>\n",
              "      <td>11.011397</td>\n",
              "      <td>3.564571</td>\n",
              "      <td>9.197223</td>\n",
              "      <td>7901.400683</td>\n",
              "      <td>19.582405</td>\n",
              "      <td>5.668569e+08</td>\n",
              "      <td>86.470591</td>\n",
              "      <td>50.628850</td>\n",
              "      <td>1131.078760</td>\n",
              "      <td>...</td>\n",
              "      <td>157.513706</td>\n",
              "      <td>28.069601</td>\n",
              "      <td>0.494345</td>\n",
              "      <td>14.631282</td>\n",
              "      <td>23.480526</td>\n",
              "      <td>16.558517</td>\n",
              "      <td>26.001599</td>\n",
              "      <td>8.414064</td>\n",
              "      <td>13.718374</td>\n",
              "      <td>9.915399</td>\n",
              "    </tr>\n",
              "    <tr>\n",
              "      <th>min</th>\n",
              "      <td>1.000000</td>\n",
              "      <td>1930.000000</td>\n",
              "      <td>1.000000</td>\n",
              "      <td>1.000000</td>\n",
              "      <td>31.000000</td>\n",
              "      <td>0.000000</td>\n",
              "      <td>2.762000e+03</td>\n",
              "      <td>0.000000</td>\n",
              "      <td>0.000000</td>\n",
              "      <td>0.000000</td>\n",
              "      <td>...</td>\n",
              "      <td>0.000000</td>\n",
              "      <td>65.000000</td>\n",
              "      <td>0.000000</td>\n",
              "      <td>23.000000</td>\n",
              "      <td>4.000000</td>\n",
              "      <td>9.000000</td>\n",
              "      <td>0.000000</td>\n",
              "      <td>0.000000</td>\n",
              "      <td>3.000000</td>\n",
              "      <td>2.000000</td>\n",
              "    </tr>\n",
              "    <tr>\n",
              "      <th>25%</th>\n",
              "      <td>1.000000</td>\n",
              "      <td>2020.000000</td>\n",
              "      <td>3.000000</td>\n",
              "      <td>6.000000</td>\n",
              "      <td>874.500000</td>\n",
              "      <td>0.000000</td>\n",
              "      <td>1.416362e+08</td>\n",
              "      <td>13.000000</td>\n",
              "      <td>7.000000</td>\n",
              "      <td>13.000000</td>\n",
              "      <td>...</td>\n",
              "      <td>0.000000</td>\n",
              "      <td>99.750000</td>\n",
              "      <td>0.000000</td>\n",
              "      <td>57.000000</td>\n",
              "      <td>32.000000</td>\n",
              "      <td>53.000000</td>\n",
              "      <td>6.000000</td>\n",
              "      <td>0.000000</td>\n",
              "      <td>10.000000</td>\n",
              "      <td>4.000000</td>\n",
              "    </tr>\n",
              "    <tr>\n",
              "      <th>50%</th>\n",
              "      <td>1.000000</td>\n",
              "      <td>2022.000000</td>\n",
              "      <td>6.000000</td>\n",
              "      <td>13.000000</td>\n",
              "      <td>2216.500000</td>\n",
              "      <td>3.000000</td>\n",
              "      <td>2.905309e+08</td>\n",
              "      <td>34.000000</td>\n",
              "      <td>38.500000</td>\n",
              "      <td>44.000000</td>\n",
              "      <td>...</td>\n",
              "      <td>2.000000</td>\n",
              "      <td>121.000000</td>\n",
              "      <td>1.000000</td>\n",
              "      <td>69.000000</td>\n",
              "      <td>51.000000</td>\n",
              "      <td>66.000000</td>\n",
              "      <td>18.000000</td>\n",
              "      <td>0.000000</td>\n",
              "      <td>12.000000</td>\n",
              "      <td>6.000000</td>\n",
              "    </tr>\n",
              "    <tr>\n",
              "      <th>75%</th>\n",
              "      <td>2.000000</td>\n",
              "      <td>2022.000000</td>\n",
              "      <td>9.000000</td>\n",
              "      <td>22.000000</td>\n",
              "      <td>5573.750000</td>\n",
              "      <td>16.000000</td>\n",
              "      <td>6.738690e+08</td>\n",
              "      <td>88.000000</td>\n",
              "      <td>87.000000</td>\n",
              "      <td>164.250000</td>\n",
              "      <td>...</td>\n",
              "      <td>33.250000</td>\n",
              "      <td>140.250000</td>\n",
              "      <td>1.000000</td>\n",
              "      <td>78.000000</td>\n",
              "      <td>70.000000</td>\n",
              "      <td>77.000000</td>\n",
              "      <td>43.000000</td>\n",
              "      <td>0.000000</td>\n",
              "      <td>24.000000</td>\n",
              "      <td>11.000000</td>\n",
              "    </tr>\n",
              "    <tr>\n",
              "      <th>max</th>\n",
              "      <td>8.000000</td>\n",
              "      <td>2023.000000</td>\n",
              "      <td>12.000000</td>\n",
              "      <td>31.000000</td>\n",
              "      <td>52898.000000</td>\n",
              "      <td>147.000000</td>\n",
              "      <td>3.703895e+09</td>\n",
              "      <td>672.000000</td>\n",
              "      <td>275.000000</td>\n",
              "      <td>12367.000000</td>\n",
              "      <td>...</td>\n",
              "      <td>1451.000000</td>\n",
              "      <td>206.000000</td>\n",
              "      <td>1.000000</td>\n",
              "      <td>96.000000</td>\n",
              "      <td>97.000000</td>\n",
              "      <td>97.000000</td>\n",
              "      <td>97.000000</td>\n",
              "      <td>91.000000</td>\n",
              "      <td>97.000000</td>\n",
              "      <td>64.000000</td>\n",
              "    </tr>\n",
              "  </tbody>\n",
              "</table>\n",
              "<p>8 rows × 21 columns</p>\n",
              "</div>\n",
              "    <div class=\"colab-df-buttons\">\n",
              "\n",
              "  <div class=\"colab-df-container\">\n",
              "    <button class=\"colab-df-convert\" onclick=\"convertToInteractive('df-e9369ccb-85ca-4a9c-bd88-dc0696d225a7')\"\n",
              "            title=\"Convert this dataframe to an interactive table.\"\n",
              "            style=\"display:none;\">\n",
              "\n",
              "  <svg xmlns=\"http://www.w3.org/2000/svg\" height=\"24px\" viewBox=\"0 -960 960 960\">\n",
              "    <path d=\"M120-120v-720h720v720H120Zm60-500h600v-160H180v160Zm220 220h160v-160H400v160Zm0 220h160v-160H400v160ZM180-400h160v-160H180v160Zm440 0h160v-160H620v160ZM180-180h160v-160H180v160Zm440 0h160v-160H620v160Z\"/>\n",
              "  </svg>\n",
              "    </button>\n",
              "\n",
              "  <style>\n",
              "    .colab-df-container {\n",
              "      display:flex;\n",
              "      gap: 12px;\n",
              "    }\n",
              "\n",
              "    .colab-df-convert {\n",
              "      background-color: #E8F0FE;\n",
              "      border: none;\n",
              "      border-radius: 50%;\n",
              "      cursor: pointer;\n",
              "      display: none;\n",
              "      fill: #1967D2;\n",
              "      height: 32px;\n",
              "      padding: 0 0 0 0;\n",
              "      width: 32px;\n",
              "    }\n",
              "\n",
              "    .colab-df-convert:hover {\n",
              "      background-color: #E2EBFA;\n",
              "      box-shadow: 0px 1px 2px rgba(60, 64, 67, 0.3), 0px 1px 3px 1px rgba(60, 64, 67, 0.15);\n",
              "      fill: #174EA6;\n",
              "    }\n",
              "\n",
              "    .colab-df-buttons div {\n",
              "      margin-bottom: 4px;\n",
              "    }\n",
              "\n",
              "    [theme=dark] .colab-df-convert {\n",
              "      background-color: #3B4455;\n",
              "      fill: #D2E3FC;\n",
              "    }\n",
              "\n",
              "    [theme=dark] .colab-df-convert:hover {\n",
              "      background-color: #434B5C;\n",
              "      box-shadow: 0px 1px 3px 1px rgba(0, 0, 0, 0.15);\n",
              "      filter: drop-shadow(0px 1px 2px rgba(0, 0, 0, 0.3));\n",
              "      fill: #FFFFFF;\n",
              "    }\n",
              "  </style>\n",
              "\n",
              "    <script>\n",
              "      const buttonEl =\n",
              "        document.querySelector('#df-e9369ccb-85ca-4a9c-bd88-dc0696d225a7 button.colab-df-convert');\n",
              "      buttonEl.style.display =\n",
              "        google.colab.kernel.accessAllowed ? 'block' : 'none';\n",
              "\n",
              "      async function convertToInteractive(key) {\n",
              "        const element = document.querySelector('#df-e9369ccb-85ca-4a9c-bd88-dc0696d225a7');\n",
              "        const dataTable =\n",
              "          await google.colab.kernel.invokeFunction('convertToInteractive',\n",
              "                                                    [key], {});\n",
              "        if (!dataTable) return;\n",
              "\n",
              "        const docLinkHtml = 'Like what you see? Visit the ' +\n",
              "          '<a target=\"_blank\" href=https://colab.research.google.com/notebooks/data_table.ipynb>data table notebook</a>'\n",
              "          + ' to learn more about interactive tables.';\n",
              "        element.innerHTML = '';\n",
              "        dataTable['output_type'] = 'display_data';\n",
              "        await google.colab.output.renderOutput(dataTable, element);\n",
              "        const docLink = document.createElement('div');\n",
              "        docLink.innerHTML = docLinkHtml;\n",
              "        element.appendChild(docLink);\n",
              "      }\n",
              "    </script>\n",
              "  </div>\n",
              "\n",
              "\n",
              "<div id=\"df-7d972761-4d03-4539-883c-19f867ab802b\">\n",
              "  <button class=\"colab-df-quickchart\" onclick=\"quickchart('df-7d972761-4d03-4539-883c-19f867ab802b')\"\n",
              "            title=\"Suggest charts.\"\n",
              "            style=\"display:none;\">\n",
              "\n",
              "<svg xmlns=\"http://www.w3.org/2000/svg\" height=\"24px\"viewBox=\"0 0 24 24\"\n",
              "     width=\"24px\">\n",
              "    <g>\n",
              "        <path d=\"M19 3H5c-1.1 0-2 .9-2 2v14c0 1.1.9 2 2 2h14c1.1 0 2-.9 2-2V5c0-1.1-.9-2-2-2zM9 17H7v-7h2v7zm4 0h-2V7h2v10zm4 0h-2v-4h2v4z\"/>\n",
              "    </g>\n",
              "</svg>\n",
              "  </button>\n",
              "\n",
              "<style>\n",
              "  .colab-df-quickchart {\n",
              "      --bg-color: #E8F0FE;\n",
              "      --fill-color: #1967D2;\n",
              "      --hover-bg-color: #E2EBFA;\n",
              "      --hover-fill-color: #174EA6;\n",
              "      --disabled-fill-color: #AAA;\n",
              "      --disabled-bg-color: #DDD;\n",
              "  }\n",
              "\n",
              "  [theme=dark] .colab-df-quickchart {\n",
              "      --bg-color: #3B4455;\n",
              "      --fill-color: #D2E3FC;\n",
              "      --hover-bg-color: #434B5C;\n",
              "      --hover-fill-color: #FFFFFF;\n",
              "      --disabled-bg-color: #3B4455;\n",
              "      --disabled-fill-color: #666;\n",
              "  }\n",
              "\n",
              "  .colab-df-quickchart {\n",
              "    background-color: var(--bg-color);\n",
              "    border: none;\n",
              "    border-radius: 50%;\n",
              "    cursor: pointer;\n",
              "    display: none;\n",
              "    fill: var(--fill-color);\n",
              "    height: 32px;\n",
              "    padding: 0;\n",
              "    width: 32px;\n",
              "  }\n",
              "\n",
              "  .colab-df-quickchart:hover {\n",
              "    background-color: var(--hover-bg-color);\n",
              "    box-shadow: 0 1px 2px rgba(60, 64, 67, 0.3), 0 1px 3px 1px rgba(60, 64, 67, 0.15);\n",
              "    fill: var(--button-hover-fill-color);\n",
              "  }\n",
              "\n",
              "  .colab-df-quickchart-complete:disabled,\n",
              "  .colab-df-quickchart-complete:disabled:hover {\n",
              "    background-color: var(--disabled-bg-color);\n",
              "    fill: var(--disabled-fill-color);\n",
              "    box-shadow: none;\n",
              "  }\n",
              "\n",
              "  .colab-df-spinner {\n",
              "    border: 2px solid var(--fill-color);\n",
              "    border-color: transparent;\n",
              "    border-bottom-color: var(--fill-color);\n",
              "    animation:\n",
              "      spin 1s steps(1) infinite;\n",
              "  }\n",
              "\n",
              "  @keyframes spin {\n",
              "    0% {\n",
              "      border-color: transparent;\n",
              "      border-bottom-color: var(--fill-color);\n",
              "      border-left-color: var(--fill-color);\n",
              "    }\n",
              "    20% {\n",
              "      border-color: transparent;\n",
              "      border-left-color: var(--fill-color);\n",
              "      border-top-color: var(--fill-color);\n",
              "    }\n",
              "    30% {\n",
              "      border-color: transparent;\n",
              "      border-left-color: var(--fill-color);\n",
              "      border-top-color: var(--fill-color);\n",
              "      border-right-color: var(--fill-color);\n",
              "    }\n",
              "    40% {\n",
              "      border-color: transparent;\n",
              "      border-right-color: var(--fill-color);\n",
              "      border-top-color: var(--fill-color);\n",
              "    }\n",
              "    60% {\n",
              "      border-color: transparent;\n",
              "      border-right-color: var(--fill-color);\n",
              "    }\n",
              "    80% {\n",
              "      border-color: transparent;\n",
              "      border-right-color: var(--fill-color);\n",
              "      border-bottom-color: var(--fill-color);\n",
              "    }\n",
              "    90% {\n",
              "      border-color: transparent;\n",
              "      border-bottom-color: var(--fill-color);\n",
              "    }\n",
              "  }\n",
              "</style>\n",
              "\n",
              "  <script>\n",
              "    async function quickchart(key) {\n",
              "      const quickchartButtonEl =\n",
              "        document.querySelector('#' + key + ' button');\n",
              "      quickchartButtonEl.disabled = true;  // To prevent multiple clicks.\n",
              "      quickchartButtonEl.classList.add('colab-df-spinner');\n",
              "      try {\n",
              "        const charts = await google.colab.kernel.invokeFunction(\n",
              "            'suggestCharts', [key], {});\n",
              "      } catch (error) {\n",
              "        console.error('Error during call to suggestCharts:', error);\n",
              "      }\n",
              "      quickchartButtonEl.classList.remove('colab-df-spinner');\n",
              "      quickchartButtonEl.classList.add('colab-df-quickchart-complete');\n",
              "    }\n",
              "    (() => {\n",
              "      let quickchartButtonEl =\n",
              "        document.querySelector('#df-7d972761-4d03-4539-883c-19f867ab802b button');\n",
              "      quickchartButtonEl.style.display =\n",
              "        google.colab.kernel.accessAllowed ? 'block' : 'none';\n",
              "    })();\n",
              "  </script>\n",
              "</div>\n",
              "    </div>\n",
              "  </div>\n"
            ]
          },
          "metadata": {},
          "execution_count": 244
        }
      ]
    },
    {
      "cell_type": "code",
      "source": [
        "sns.histplot(data=data, x=\"artist_count\")"
      ],
      "metadata": {
        "colab": {
          "base_uri": "https://localhost:8080/"
        },
        "id": "lmSdfy09RxDl",
        "outputId": "37aecffb-99ea-420f-a9aa-25e93d6e4d3d"
      },
      "execution_count": null,
      "outputs": [
        {
          "output_type": "execute_result",
          "data": {
            "text/plain": [
              "<Axes: xlabel='artist_count', ylabel='Count'>"
            ]
          },
          "metadata": {},
          "execution_count": 245
        },
        {
          "output_type": "display_data",
          "data": {
            "text/plain": [
              "<Figure size 640x480 with 1 Axes>"
            ],
            "image/png": "[encoded data removed]"
          },
          "metadata": {}
        }
      ]
    },
    {
      "cell_type": "code",
      "source": [
        "sns.histplot(data=data, palette = \"Spectral\", x=\"streams\", hue = 'mode',kde = True)"
      ],
      "metadata": {
        "colab": {
          "base_uri": "https://localhost:8080/"
        },
        "id": "dGaeFbhXTMDO",
        "outputId": "b3d139c6-eb91-4333-8759-2ebc0dac9099"
      },
      "execution_count": null,
      "outputs": [
        {
          "output_type": "execute_result",
          "data": {
            "text/plain": [
              "<Axes: xlabel='streams', ylabel='Count'>"
            ]
          },
          "metadata": {},
          "execution_count": 246
        },
        {
          "output_type": "display_data",
          "data": {
            "text/plain": [
              "<Figure size 640x480 with 1 Axes>"
            ],
            "image/png": "[encoded data removed]"
          },
          "metadata": {}
        }
      ]
    },
    {
      "cell_type": "code",
      "source": [
        "sns.histplot(data=data, x=\"bpm\",palette = \"Spectral\",  hue = 'mode',kde = True)"
      ],
      "metadata": {
        "colab": {
          "base_uri": "https://localhost:8080/"
        },
        "id": "kKgkJ5J0TMqV",
        "outputId": "f75d13f9-2f01-4273-c5ac-2d5a2e5f15fa"
      },
      "execution_count": null,
      "outputs": [
        {
          "output_type": "execute_result",
          "data": {
            "text/plain": [
              "<Axes: xlabel='bpm', ylabel='Count'>"
            ]
          },
          "metadata": {},
          "execution_count": 247
        },
        {
          "output_type": "display_data",
          "data": {
            "text/plain": [
              "<Figure size 640x480 with 1 Axes>"
            ],
            "image/png": "[encoded data removed]"
          },
          "metadata": {}
        }
      ]
    },
    {
      "cell_type": "code",
      "source": [
        "data[\"mode\"].value_counts()"
      ],
      "metadata": {
        "colab": {
          "base_uri": "https://localhost:8080/"
        },
        "id": "3YCn7Bv8VSlu",
        "outputId": "46ad83cc-4771-42c9-c799-5e09d779b2d9"
      },
      "execution_count": null,
      "outputs": [
        {
          "output_type": "execute_result",
          "data": {
            "text/plain": [
              "1    549\n",
              "0    403\n",
              "Name: mode, dtype: int64"
            ]
          },
          "metadata": {},
          "execution_count": 248
        }
      ]
    },
    {
      "cell_type": "code",
      "source": [
        "colors = sns.color_palette('dark')\n",
        "plt.pie(data[\"mode\"].value_counts(), labels = [\"Major\",\"minor\"], colors = colors)\n",
        "plt.show()"
      ],
      "metadata": {
        "colab": {
          "base_uri": "https://localhost:8080/"
        },
        "id": "n1XvcNlnUUmO",
        "outputId": "bd0a1ae1-b660-4291-a422-da3b910e905b"
      },
      "execution_count": null,
      "outputs": [
        {
          "output_type": "display_data",
          "data": {
            "text/plain": [
              "<Figure size 640x480 with 1 Axes>"
            ],
            "image/png": "[encoded data removed]"
          },
          "metadata": {}
        }
      ]
    },
    {
      "cell_type": "code",
      "source": [
        "key_data=pd.DataFrame(data[\"key\"].value_counts())\n",
        "key_data"
      ],
      "metadata": {
        "colab": {
          "base_uri": "https://localhost:8080/"
        },
        "id": "04XwdER8WVu9",
        "outputId": "8f0d2b97-741e-46f3-d2b4-5e862c4852d7"
      },
      "execution_count": null,
      "outputs": [
        {
          "output_type": "execute_result",
          "data": {
            "text/plain": [
              "    key\n",
              "C#  120\n",
              "G    96\n",
              "0    95\n",
              "G#   91\n",
              "F    89\n",
              "B    81\n",
              "D    81\n",
              "A    74\n",
              "F#   73\n",
              "E    62\n",
              "A#   57\n",
              "D#   33"
            ],
            "text/html": [
              "\n",
              "  <div id=\"df-133448d9-b4e0-42f0-80e7-ea377218fe92\" class=\"colab-df-container\">\n",
              "    <div>\n",
              "<style scoped>\n",
              "    .dataframe tbody tr th:only-of-type {\n",
              "        vertical-align: middle;\n",
              "    }\n",
              "\n",
              "    .dataframe tbody tr th {\n",
              "        vertical-align: top;\n",
              "    }\n",
              "\n",
              "    .dataframe thead th {\n",
              "        text-align: right;\n",
              "    }\n",
              "</style>\n",
              "<table border=\"1\" class=\"dataframe\">\n",
              "  <thead>\n",
              "    <tr style=\"text-align: right;\">\n",
              "      <th></th>\n",
              "      <th>key</th>\n",
              "    </tr>\n",
              "  </thead>\n",
              "  <tbody>\n",
              "    <tr>\n",
              "      <th>C#</th>\n",
              "      <td>120</td>\n",
              "    </tr>\n",
              "    <tr>\n",
              "      <th>G</th>\n",
              "      <td>96</td>\n",
              "    </tr>\n",
              "    <tr>\n",
              "      <th>0</th>\n",
              "      <td>95</td>\n",
              "    </tr>\n",
              "    <tr>\n",
              "      <th>G#</th>\n",
              "      <td>91</td>\n",
              "    </tr>\n",
              "    <tr>\n",
              "      <th>F</th>\n",
              "      <td>89</td>\n",
              "    </tr>\n",
              "    <tr>\n",
              "      <th>B</th>\n",
              "      <td>81</td>\n",
              "    </tr>\n",
              "    <tr>\n",
              "      <th>D</th>\n",
              "      <td>81</td>\n",
              "    </tr>\n",
              "    <tr>\n",
              "      <th>A</th>\n",
              "      <td>74</td>\n",
              "    </tr>\n",
              "    <tr>\n",
              "      <th>F#</th>\n",
              "      <td>73</td>\n",
              "    </tr>\n",
              "    <tr>\n",
              "      <th>E</th>\n",
              "      <td>62</td>\n",
              "    </tr>\n",
              "    <tr>\n",
              "      <th>A#</th>\n",
              "      <td>57</td>\n",
              "    </tr>\n",
              "    <tr>\n",
              "      <th>D#</th>\n",
              "      <td>33</td>\n",
              "    </tr>\n",
              "  </tbody>\n",
              "</table>\n",
              "</div>\n",
              "    <div class=\"colab-df-buttons\">\n",
              "\n",
              "  <div class=\"colab-df-container\">\n",
              "    <button class=\"colab-df-convert\" onclick=\"convertToInteractive('df-133448d9-b4e0-42f0-80e7-ea377218fe92')\"\n",
              "            title=\"Convert this dataframe to an interactive table.\"\n",
              "            style=\"display:none;\">\n",
              "\n",
              "  <svg xmlns=\"http://www.w3.org/2000/svg\" height=\"24px\" viewBox=\"0 -960 960 960\">\n",
              "    <path d=\"M120-120v-720h720v720H120Zm60-500h600v-160H180v160Zm220 220h160v-160H400v160Zm0 220h160v-160H400v160ZM180-400h160v-160H180v160Zm440 0h160v-160H620v160ZM180-180h160v-160H180v160Zm440 0h160v-160H620v160Z\"/>\n",
              "  </svg>\n",
              "    </button>\n",
              "\n",
              "  <style>\n",
              "    .colab-df-container {\n",
              "      display:flex;\n",
              "      gap: 12px;\n",
              "    }\n",
              "\n",
              "    .colab-df-convert {\n",
              "      background-color: #E8F0FE;\n",
              "      border: none;\n",
              "      border-radius: 50%;\n",
              "      cursor: pointer;\n",
              "      display: none;\n",
              "      fill: #1967D2;\n",
              "      height: 32px;\n",
              "      padding: 0 0 0 0;\n",
              "      width: 32px;\n",
              "    }\n",
              "\n",
              "    .colab-df-convert:hover {\n",
              "      background-color: #E2EBFA;\n",
              "      box-shadow: 0px 1px 2px rgba(60, 64, 67, 0.3), 0px 1px 3px 1px rgba(60, 64, 67, 0.15);\n",
              "      fill: #174EA6;\n",
              "    }\n",
              "\n",
              "    .colab-df-buttons div {\n",
              "      margin-bottom: 4px;\n",
              "    }\n",
              "\n",
              "    [theme=dark] .colab-df-convert {\n",
              "      background-color: #3B4455;\n",
              "      fill: #D2E3FC;\n",
              "    }\n",
              "\n",
              "    [theme=dark] .colab-df-convert:hover {\n",
              "      background-color: #434B5C;\n",
              "      box-shadow: 0px 1px 3px 1px rgba(0, 0, 0, 0.15);\n",
              "      filter: drop-shadow(0px 1px 2px rgba(0, 0, 0, 0.3));\n",
              "      fill: #FFFFFF;\n",
              "    }\n",
              "  </style>\n",
              "\n",
              "    <script>\n",
              "      const buttonEl =\n",
              "        document.querySelector('#df-133448d9-b4e0-42f0-80e7-ea377218fe92 button.colab-df-convert');\n",
              "      buttonEl.style.display =\n",
              "        google.colab.kernel.accessAllowed ? 'block' : 'none';\n",
              "\n",
              "      async function convertToInteractive(key) {\n",
              "        const element = document.querySelector('#df-133448d9-b4e0-42f0-80e7-ea377218fe92');\n",
              "        const dataTable =\n",
              "          await google.colab.kernel.invokeFunction('convertToInteractive',\n",
              "                                                    [key], {});\n",
              "        if (!dataTable) return;\n",
              "\n",
              "        const docLinkHtml = 'Like what you see? Visit the ' +\n",
              "          '<a target=\"_blank\" href=https://colab.research.google.com/notebooks/data_table.ipynb>data table notebook</a>'\n",
              "          + ' to learn more about interactive tables.';\n",
              "        element.innerHTML = '';\n",
              "        dataTable['output_type'] = 'display_data';\n",
              "        await google.colab.output.renderOutput(dataTable, element);\n",
              "        const docLink = document.createElement('div');\n",
              "        docLink.innerHTML = docLinkHtml;\n",
              "        element.appendChild(docLink);\n",
              "      }\n",
              "    </script>\n",
              "  </div>\n",
              "\n",
              "\n",
              "<div id=\"df-2b598ed5-b4df-4586-aead-9f40f5144dda\">\n",
              "  <button class=\"colab-df-quickchart\" onclick=\"quickchart('df-2b598ed5-b4df-4586-aead-9f40f5144dda')\"\n",
              "            title=\"Suggest charts.\"\n",
              "            style=\"display:none;\">\n",
              "\n",
              "<svg xmlns=\"http://www.w3.org/2000/svg\" height=\"24px\"viewBox=\"0 0 24 24\"\n",
              "     width=\"24px\">\n",
              "    <g>\n",
              "        <path d=\"M19 3H5c-1.1 0-2 .9-2 2v14c0 1.1.9 2 2 2h14c1.1 0 2-.9 2-2V5c0-1.1-.9-2-2-2zM9 17H7v-7h2v7zm4 0h-2V7h2v10zm4 0h-2v-4h2v4z\"/>\n",
              "    </g>\n",
              "</svg>\n",
              "  </button>\n",
              "\n",
              "<style>\n",
              "  .colab-df-quickchart {\n",
              "      --bg-color: #E8F0FE;\n",
              "      --fill-color: #1967D2;\n",
              "      --hover-bg-color: #E2EBFA;\n",
              "      --hover-fill-color: #174EA6;\n",
              "      --disabled-fill-color: #AAA;\n",
              "      --disabled-bg-color: #DDD;\n",
              "  }\n",
              "\n",
              "  [theme=dark] .colab-df-quickchart {\n",
              "      --bg-color: #3B4455;\n",
              "      --fill-color: #D2E3FC;\n",
              "      --hover-bg-color: #434B5C;\n",
              "      --hover-fill-color: #FFFFFF;\n",
              "      --disabled-bg-color: #3B4455;\n",
              "      --disabled-fill-color: #666;\n",
              "  }\n",
              "\n",
              "  .colab-df-quickchart {\n",
              "    background-color: var(--bg-color);\n",
              "    border: none;\n",
              "    border-radius: 50%;\n",
              "    cursor: pointer;\n",
              "    display: none;\n",
              "    fill: var(--fill-color);\n",
              "    height: 32px;\n",
              "    padding: 0;\n",
              "    width: 32px;\n",
              "  }\n",
              "\n",
              "  .colab-df-quickchart:hover {\n",
              "    background-color: var(--hover-bg-color);\n",
              "    box-shadow: 0 1px 2px rgba(60, 64, 67, 0.3), 0 1px 3px 1px rgba(60, 64, 67, 0.15);\n",
              "    fill: var(--button-hover-fill-color);\n",
              "  }\n",
              "\n",
              "  .colab-df-quickchart-complete:disabled,\n",
              "  .colab-df-quickchart-complete:disabled:hover {\n",
              "    background-color: var(--disabled-bg-color);\n",
              "    fill: var(--disabled-fill-color);\n",
              "    box-shadow: none;\n",
              "  }\n",
              "\n",
              "  .colab-df-spinner {\n",
              "    border: 2px solid var(--fill-color);\n",
              "    border-color: transparent;\n",
              "    border-bottom-color: var(--fill-color);\n",
              "    animation:\n",
              "      spin 1s steps(1) infinite;\n",
              "  }\n",
              "\n",
              "  @keyframes spin {\n",
              "    0% {\n",
              "      border-color: transparent;\n",
              "      border-bottom-color: var(--fill-color);\n",
              "      border-left-color: var(--fill-color);\n",
              "    }\n",
              "    20% {\n",
              "      border-color: transparent;\n",
              "      border-left-color: var(--fill-color);\n",
              "      border-top-color: var(--fill-color);\n",
              "    }\n",
              "    30% {\n",
              "      border-color: transparent;\n",
              "      border-left-color: var(--fill-color);\n",
              "      border-top-color: var(--fill-color);\n",
              "      border-right-color: var(--fill-color);\n",
              "    }\n",
              "    40% {\n",
              "      border-color: transparent;\n",
              "      border-right-color: var(--fill-color);\n",
              "      border-top-color: var(--fill-color);\n",
              "    }\n",
              "    60% {\n",
              "      border-color: transparent;\n",
              "      border-right-color: var(--fill-color);\n",
              "    }\n",
              "    80% {\n",
              "      border-color: transparent;\n",
              "      border-right-color: var(--fill-color);\n",
              "      border-bottom-color: var(--fill-color);\n",
              "    }\n",
              "    90% {\n",
              "      border-color: transparent;\n",
              "      border-bottom-color: var(--fill-color);\n",
              "    }\n",
              "  }\n",
              "</style>\n",
              "\n",
              "  <script>\n",
              "    async function quickchart(key) {\n",
              "      const quickchartButtonEl =\n",
              "        document.querySelector('#' + key + ' button');\n",
              "      quickchartButtonEl.disabled = true;  // To prevent multiple clicks.\n",
              "      quickchartButtonEl.classList.add('colab-df-spinner');\n",
              "      try {\n",
              "        const charts = await google.colab.kernel.invokeFunction(\n",
              "            'suggestCharts', [key], {});\n",
              "      } catch (error) {\n",
              "        console.error('Error during call to suggestCharts:', error);\n",
              "      }\n",
              "      quickchartButtonEl.classList.remove('colab-df-spinner');\n",
              "      quickchartButtonEl.classList.add('colab-df-quickchart-complete');\n",
              "    }\n",
              "    (() => {\n",
              "      let quickchartButtonEl =\n",
              "        document.querySelector('#df-2b598ed5-b4df-4586-aead-9f40f5144dda button');\n",
              "      quickchartButtonEl.style.display =\n",
              "        google.colab.kernel.accessAllowed ? 'block' : 'none';\n",
              "    })();\n",
              "  </script>\n",
              "</div>\n",
              "    </div>\n",
              "  </div>\n"
            ]
          },
          "metadata": {},
          "execution_count": 250
        }
      ]
    },
    {
      "cell_type": "code",
      "source": [
        "colors = sns.color_palette('dark')\n",
        "plt.pie(key_data.key, labels =key_data.index, colors = colors)\n",
        "plt.show()"
      ],
      "metadata": {
        "colab": {
          "base_uri": "https://localhost:8080/"
        },
        "id": "tDIYjuaqWaxN",
        "outputId": "f729daf3-5cf1-4ed3-b6ae-dde6dc11a70f"
      },
      "execution_count": null,
      "outputs": [
        {
          "output_type": "display_data",
          "data": {
            "text/plain": [
              "<Figure size 640x480 with 1 Axes>"
            ],
            "image/png": "[encoded data removed]"
          },
          "metadata": {}
        }
      ]
    },
    {
      "cell_type": "code",
      "source": [
        "# Group the data by 'released_year' and calculate the mean of 'streams' for each year\n",
        "yearly_streams = data.groupby('released_year')['streams'].mean()\n",
        "yearly_streams.head()"
      ],
      "metadata": {
        "colab": {
          "base_uri": "https://localhost:8080/"
        },
        "id": "D_ez6ybtXNx2",
        "outputId": "b3053673-1fa7-43dd-c133-03a4a5d78006"
      },
      "execution_count": null,
      "outputs": [
        {
          "output_type": "execute_result",
          "data": {
            "text/plain": [
              "released_year\n",
              "1930     90598517.0\n",
              "1942    395591396.0\n",
              "1946    389771964.0\n",
              "1950    473248298.0\n",
              "1952    395591396.0\n",
              "Name: streams, dtype: float64"
            ]
          },
          "metadata": {},
          "execution_count": 252
        }
      ]
    },
    {
      "cell_type": "code",
      "source": [
        "# Create a line chart to visualize how 'streams' change over time\n",
        "plt.figure(figsize=(10, 6))\n",
        "plt.plot(yearly_streams.index, yearly_streams.values, marker='o', linestyle='-')\n",
        "plt.title('Average Streams Over the Years')\n",
        "plt.xlabel('Year')\n",
        "plt.ylabel('Average Streams')\n",
        "plt.grid(True)\n",
        "plt.show()"
      ],
      "metadata": {
        "colab": {
          "base_uri": "https://localhost:8080/"
        },
        "id": "D6u_dd-RX_dm",
        "outputId": "c1c5be06-4a02-4b18-add4-ebc867e9ec47"
      },
      "execution_count": null,
      "outputs": [
        {
          "output_type": "display_data",
          "data": {
            "text/plain": [
              "<Figure size 1000x600 with 1 Axes>"
            ],
            "image/png": "[encoded data removed]"
          },
          "metadata": {}
        }
      ]
    },
    {
      "cell_type": "code",
      "source": [
        "dataplot = sns.heatmap(data[['danceability_%', 'valence_%','energy_%']].corr(), cmap=\"YlGnBu\", annot=True)\n",
        "plt.figure(figsize=(20, 10))\n",
        "plt.show()"
      ],
      "metadata": {
        "colab": {
          "base_uri": "https://localhost:8080/"
        },
        "id": "t_LbQT3pY5G-",
        "outputId": "4d045efd-2655-43c1-d305-89a8a9389788"
      },
      "execution_count": null,
      "outputs": [
        {
          "output_type": "display_data",
          "data": {
            "text/plain": [
              "<Figure size 640x480 with 2 Axes>"
            ],
            "image/png": "[encoded data removed]"
          },
          "metadata": {}
        },
        {
          "output_type": "display_data",
          "data": {
            "text/plain": [
              "<Figure size 2000x1000 with 0 Axes>"
            ]
          },
          "metadata": {}
        }
      ]
    },
    {
      "cell_type": "markdown",
      "source": [
        " ### **Hypothesis**"
      ],
      "metadata": {
        "id": "dDm6WezjYkV2"
      }
    },
    {
      "cell_type": "markdown",
      "source": [
        "Hypothesis 1 :\n",
        "\n",
        "Null Hypothesis (H0): The danceability of songs released in major keys is the same as the danceability of songs released in minor keys.\n",
        "\n",
        "Alternative Hypothesis (Ha): The danceability of songs released in major keys is different from the danceability of songs released in minor keys."
      ],
      "metadata": {
        "id": "JNntKZjqdBZH"
      }
    },
    {
      "cell_type": "code",
      "source": [
        "danceability_major =data.loc[data['mode']==1]['danceability_%']\n",
        "danceability_minor =data.loc[data['mode']==0]['danceability_%']\n",
        "_, p_value = mannwhitneyu(danceability_major.sample(200), danceability_minor.sample(200), alternative='two-sided')\n",
        "\n",
        "alpha = 0.05\n",
        "if p_value < alpha:\n",
        "    print(\"Reject the null hypothesis: There is a significant difference in danceability between major and minor key songs.\")\n",
        "else:\n",
        "    print(\"Fail to reject the null hypothesis: No significant difference observed in danceability.\")"
      ],
      "metadata": {
        "colab": {
          "base_uri": "https://localhost:8080/"
        },
        "id": "UEF7Dqp-dLMd",
        "outputId": "35906035-ea4a-4634-d14a-541136be8e41"
      },
      "execution_count": null,
      "outputs": [
        {
          "output_type": "stream",
          "name": "stdout",
          "text": [
            "Reject the null hypothesis: There is a significant difference in danceability between major and minor key songs.\n"
          ]
        }
      ]
    },
    {
      "cell_type": "markdown",
      "source": [
        "Hypothesis 2:\n",
        "\n",
        "Null Hypothesis (H0): The mean acousticness of songs included in Spotify playlists is the same as the mean acousticness of songs not included in Spotify playlists.\n",
        "\n",
        "Alternative Hypothesis (Ha): The mean acousticness of songs included in Spotify playlists is different from the mean acousticness of songs not included in Spotify playlists."
      ],
      "metadata": {
        "id": "ZbIksfttfR-n"
      }
    },
    {
      "cell_type": "markdown",
      "source": [
        "Hypothesis 3:\n",
        "\n",
        "Null Hypothesis (H0): The mean energy level of songs in major keys is the same as the mean energy level of songs in minor keys.\n",
        "\n",
        "Alternative Hypothesis (Ha): The mean energy level of songs in major keys is different from the mean energy level of songs in minor keys."
      ],
      "metadata": {
        "id": "XgX8briQfVSe"
      }
    },
    {
      "cell_type": "markdown",
      "source": [
        "###**Future Steps**\n",
        " Building predictive models, conducting further hypothesis tests, or exploring additional data sources that can enhance my understanding of the music industry or user behavior.\n",
        "\n",
        "\n",
        "\n"
      ],
      "metadata": {
        "id": "kIbe2T_RauFX"
      }
    },
    {
      "cell_type": "markdown",
      "source": [
        "### summarizes the quality of this data set\n",
        "\n",
        "Some of the data was not very clean so had to do some feature engineering but it is insightful."
      ],
      "metadata": {
        "id": "WbVs18hxgDAW"
      }
    }
  ]
}